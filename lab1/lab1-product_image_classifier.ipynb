{
 "cells": [
  {
   "cell_type": "markdown",
   "id": "fb4761a1-4d1d-4916-9416-327c3ee6a3ed",
   "metadata": {},
   "source": [
    "# Get Product Data"
   ]
  },
  {
   "cell_type": "markdown",
   "id": "082c733c-4794-4272-9498-18376f3a9d8c",
   "metadata": {},
   "source": [
    "## Download the raw data"
   ]
  },
  {
   "cell_type": "code",
   "execution_count": 1,
   "id": "a64eb9a2-e866-432c-bfd2-cb0d2b348666",
   "metadata": {},
   "outputs": [],
   "source": [
    "# Download data from Citysuper\n",
    "import requests\n",
    "import json\n",
    "import urllib.parse\n",
    "\n",
    "\n",
    "def get_product(q, page):\n",
    "    url = f'https://api.fastsimon.com/full_text_search?q={urllib.parse.quote(q)}&page_num={page}&UUID=a576ef0e-353e-426c-8673-dbefcd7987b4'\n",
    "    response = requests.get(url)\n",
    "    data = json.loads(response.text.lstrip('ispSearchResult(').rstrip(');'))\n",
    "    return data['items'], data['total_p']\n",
    "\n",
    "\n",
    "def get_all_products(q):\n",
    "    page = 1\n",
    "    products = []\n",
    "    while True:\n",
    "        data, total = get_product(q, page)\n",
    "        products += data\n",
    "        if page >= total:\n",
    "            break\n",
    "        page += 1\n",
    "    return products\n"
   ]
  },
  {
   "cell_type": "code",
   "execution_count": 2,
   "id": "e503fa0b-e079-4cc0-a8f0-4c75f55059ea",
   "metadata": {},
   "outputs": [],
   "source": [
    "# using 3 main categories\n",
    "candy = get_all_products('candy')\n",
    "coffee = get_all_products('coffee')\n",
    "noodle = get_all_products('noodle')\n"
   ]
  },
  {
   "cell_type": "markdown",
   "id": "b3e5a785-3651-4359-8f6b-d14e048a3cd1",
   "metadata": {},
   "source": [
    "## Data Cleaning"
   ]
  },
  {
   "cell_type": "code",
   "execution_count": 3,
   "id": "abd78c5a-ff81-4e20-83ac-1998dde4222b",
   "metadata": {},
   "outputs": [],
   "source": [
    "import pandas as pd\n",
    "\n",
    "candy_df = pd.DataFrame(candy)\n",
    "coffee_df = pd.DataFrame(coffee)\n",
    "noodle_df = pd.DataFrame(noodle)\n"
   ]
  },
  {
   "cell_type": "code",
   "execution_count": 4,
   "id": "69089801-06da-4215-b60f-d2b6382b4115",
   "metadata": {},
   "outputs": [],
   "source": [
    "del candy, coffee, noodle"
   ]
  },
  {
   "cell_type": "code",
   "execution_count": 5,
   "id": "23104eef-a8c4-4552-9e3f-b24ab7692bbf",
   "metadata": {},
   "outputs": [
    {
     "data": {
      "text/html": [
       "<div>\n",
       "<style scoped>\n",
       "    .dataframe tbody tr th:only-of-type {\n",
       "        vertical-align: middle;\n",
       "    }\n",
       "\n",
       "    .dataframe tbody tr th {\n",
       "        vertical-align: top;\n",
       "    }\n",
       "\n",
       "    .dataframe thead th {\n",
       "        text-align: right;\n",
       "    }\n",
       "</style>\n",
       "<table border=\"1\" class=\"dataframe\">\n",
       "  <thead>\n",
       "    <tr style=\"text-align: right;\">\n",
       "      <th></th>\n",
       "      <th>l</th>\n",
       "      <th>c</th>\n",
       "      <th>u</th>\n",
       "      <th>p</th>\n",
       "      <th>p_min</th>\n",
       "      <th>p_max</th>\n",
       "      <th>p_c</th>\n",
       "      <th>p_min_c</th>\n",
       "      <th>p_max_c</th>\n",
       "      <th>d</th>\n",
       "      <th>...</th>\n",
       "      <th>f</th>\n",
       "      <th>s</th>\n",
       "      <th>sku</th>\n",
       "      <th>p_spl</th>\n",
       "      <th>id</th>\n",
       "      <th>skus</th>\n",
       "      <th>v_c</th>\n",
       "      <th>iso</th>\n",
       "      <th>vra</th>\n",
       "      <th>vrc</th>\n",
       "    </tr>\n",
       "  </thead>\n",
       "  <tbody>\n",
       "    <tr>\n",
       "      <th>0</th>\n",
       "      <td>LIFE SAVERS Hard Candy - Five Flavor  (177g)</td>\n",
       "      <td>HKD</td>\n",
       "      <td>/products/lifesaver-hard-candy-five-flavor-620...</td>\n",
       "      <td>30.00</td>\n",
       "      <td></td>\n",
       "      <td></td>\n",
       "      <td>0.00</td>\n",
       "      <td>0.00</td>\n",
       "      <td>0.00</td>\n",
       "      <td>Store in cool dry place *Photo for reference o...</td>\n",
       "      <td>...</td>\n",
       "      <td>0</td>\n",
       "      <td>4397579337771::31544713347115</td>\n",
       "      <td>6200323</td>\n",
       "      <td>0</td>\n",
       "      <td>4397579337771</td>\n",
       "      <td>[6200323, LIFE, SAVERS, 什錦果味硬糖, , (177g)]</td>\n",
       "      <td>1</td>\n",
       "      <td>False</td>\n",
       "      <td>[[31544713347115, [['Barcode', ['LIFE SAVERS 什...</td>\n",
       "      <td>{}</td>\n",
       "    </tr>\n",
       "    <tr>\n",
       "      <th>1</th>\n",
       "      <td>MORINAGA Hi-Chew Assort Candy  (86g)</td>\n",
       "      <td>HKD</td>\n",
       "      <td>/products/hi-chew-assort-candy-with-grapefruit...</td>\n",
       "      <td>20.00</td>\n",
       "      <td></td>\n",
       "      <td></td>\n",
       "      <td>0.00</td>\n",
       "      <td>0.00</td>\n",
       "      <td>0.00</td>\n",
       "      <td>From the signature candy range of the well-kno...</td>\n",
       "      <td>...</td>\n",
       "      <td>0</td>\n",
       "      <td>1515462098987::14019009413163</td>\n",
       "      <td>301115025</td>\n",
       "      <td>0</td>\n",
       "      <td>1515462098987</td>\n",
       "      <td>[301115025, 森永, Hi-Chew, 水果軟糖, [包裝], , (86g)]</td>\n",
       "      <td>1</td>\n",
       "      <td>False</td>\n",
       "      <td>[[14019009413163, [['Barcode', ['森永 Hi-Chew 水果...</td>\n",
       "      <td>{}</td>\n",
       "    </tr>\n",
       "    <tr>\n",
       "      <th>2</th>\n",
       "      <td>CANDY POPPY Popcorn - Mexican Chili Flavor  (50g)</td>\n",
       "      <td>HKD</td>\n",
       "      <td>/products/candy-poppy-popcorn-mexican-chili-fl...</td>\n",
       "      <td>18.00</td>\n",
       "      <td></td>\n",
       "      <td></td>\n",
       "      <td>24.00</td>\n",
       "      <td>24.00</td>\n",
       "      <td>24.00</td>\n",
       "      <td>Store in cool dry place *Photo for reference o...</td>\n",
       "      <td>...</td>\n",
       "      <td>0</td>\n",
       "      <td>7086410825771::40729625657387</td>\n",
       "      <td>301539080</td>\n",
       "      <td>0</td>\n",
       "      <td>7086410825771</td>\n",
       "      <td>[301539080, CP菓糖, 爆米花, -, 鄉村墨西哥味, , (50g)]</td>\n",
       "      <td>1</td>\n",
       "      <td>False</td>\n",
       "      <td>[[40729625657387, [['Barcode', ['CP菓糖 爆米花 - 鄉村...</td>\n",
       "      <td>{}</td>\n",
       "    </tr>\n",
       "    <tr>\n",
       "      <th>3</th>\n",
       "      <td>CANDY KITTENS Vegan Kittens Shaped Gummy - Swe...</td>\n",
       "      <td>HKD</td>\n",
       "      <td>/products/candy-kittens-vegan-kittens-shaped-g...</td>\n",
       "      <td>49.00</td>\n",
       "      <td></td>\n",
       "      <td></td>\n",
       "      <td>0.00</td>\n",
       "      <td>0.00</td>\n",
       "      <td>0.00</td>\n",
       "      <td>Store in cool dry place *Photo for reference o...</td>\n",
       "      <td>...</td>\n",
       "      <td>0</td>\n",
       "      <td>7102614011947::40767040421931</td>\n",
       "      <td>301542367</td>\n",
       "      <td>0</td>\n",
       "      <td>7102614011947</td>\n",
       "      <td>[301542367, CANDY, KITTENS, 純素果汁貓貓軟糖, -, 紅桑子番石...</td>\n",
       "      <td>1</td>\n",
       "      <td>False</td>\n",
       "      <td>[[40767040421931, [['Barcode', ['CANDY KITTENS...</td>\n",
       "      <td>{}</td>\n",
       "    </tr>\n",
       "    <tr>\n",
       "      <th>4</th>\n",
       "      <td>CANDY KITTENS Vegan Kittens Shaped Gummy - Wil...</td>\n",
       "      <td>HKD</td>\n",
       "      <td>/products/candy-kittens-vegan-kittens-shaped-g...</td>\n",
       "      <td>49.00</td>\n",
       "      <td></td>\n",
       "      <td></td>\n",
       "      <td>0.00</td>\n",
       "      <td>0.00</td>\n",
       "      <td>0.00</td>\n",
       "      <td>Store in cool dry place *Photo for reference o...</td>\n",
       "      <td>...</td>\n",
       "      <td>0</td>\n",
       "      <td>7102614077483::40767040487467</td>\n",
       "      <td>301542365</td>\n",
       "      <td>0</td>\n",
       "      <td>7102614077483</td>\n",
       "      <td>[301542365, CANDY, KITTENS, 純素果汁貓貓軟糖, -, 野莓, ,...</td>\n",
       "      <td>1</td>\n",
       "      <td>False</td>\n",
       "      <td>[[40767040487467, [['Barcode', ['CANDY KITTENS...</td>\n",
       "      <td>{}</td>\n",
       "    </tr>\n",
       "  </tbody>\n",
       "</table>\n",
       "<p>5 rows × 22 columns</p>\n",
       "</div>"
      ],
      "text/plain": [
       "                                                   l    c  \\\n",
       "0       LIFE SAVERS Hard Candy - Five Flavor  (177g)  HKD   \n",
       "1               MORINAGA Hi-Chew Assort Candy  (86g)  HKD   \n",
       "2  CANDY POPPY Popcorn - Mexican Chili Flavor  (50g)  HKD   \n",
       "3  CANDY KITTENS Vegan Kittens Shaped Gummy - Swe...  HKD   \n",
       "4  CANDY KITTENS Vegan Kittens Shaped Gummy - Wil...  HKD   \n",
       "\n",
       "                                                   u      p p_min p_max  \\\n",
       "0  /products/lifesaver-hard-candy-five-flavor-620...  30.00               \n",
       "1  /products/hi-chew-assort-candy-with-grapefruit...  20.00               \n",
       "2  /products/candy-poppy-popcorn-mexican-chili-fl...  18.00               \n",
       "3  /products/candy-kittens-vegan-kittens-shaped-g...  49.00               \n",
       "4  /products/candy-kittens-vegan-kittens-shaped-g...  49.00               \n",
       "\n",
       "     p_c p_min_c p_max_c                                                  d  \\\n",
       "0   0.00    0.00    0.00  Store in cool dry place *Photo for reference o...   \n",
       "1   0.00    0.00    0.00  From the signature candy range of the well-kno...   \n",
       "2  24.00   24.00   24.00  Store in cool dry place *Photo for reference o...   \n",
       "3   0.00    0.00    0.00  Store in cool dry place *Photo for reference o...   \n",
       "4   0.00    0.00    0.00  Store in cool dry place *Photo for reference o...   \n",
       "\n",
       "   ...  f                              s        sku p_spl             id  \\\n",
       "0  ...  0  4397579337771::31544713347115    6200323     0  4397579337771   \n",
       "1  ...  0  1515462098987::14019009413163  301115025     0  1515462098987   \n",
       "2  ...  0  7086410825771::40729625657387  301539080     0  7086410825771   \n",
       "3  ...  0  7102614011947::40767040421931  301542367     0  7102614011947   \n",
       "4  ...  0  7102614077483::40767040487467  301542365     0  7102614077483   \n",
       "\n",
       "                                                skus v_c    iso  \\\n",
       "0          [6200323, LIFE, SAVERS, 什錦果味硬糖, , (177g)]   1  False   \n",
       "1      [301115025, 森永, Hi-Chew, 水果軟糖, [包裝], , (86g)]   1  False   \n",
       "2         [301539080, CP菓糖, 爆米花, -, 鄉村墨西哥味, , (50g)]   1  False   \n",
       "3  [301542367, CANDY, KITTENS, 純素果汁貓貓軟糖, -, 紅桑子番石...   1  False   \n",
       "4  [301542365, CANDY, KITTENS, 純素果汁貓貓軟糖, -, 野莓, ,...   1  False   \n",
       "\n",
       "                                                 vra  vrc  \n",
       "0  [[31544713347115, [['Barcode', ['LIFE SAVERS 什...   {}  \n",
       "1  [[14019009413163, [['Barcode', ['森永 Hi-Chew 水果...   {}  \n",
       "2  [[40729625657387, [['Barcode', ['CP菓糖 爆米花 - 鄉村...   {}  \n",
       "3  [[40767040421931, [['Barcode', ['CANDY KITTENS...   {}  \n",
       "4  [[40767040487467, [['Barcode', ['CANDY KITTENS...   {}  \n",
       "\n",
       "[5 rows x 22 columns]"
      ]
     },
     "execution_count": 5,
     "metadata": {},
     "output_type": "execute_result"
    }
   ],
   "source": [
    "candy_df.head()"
   ]
  },
  {
   "cell_type": "code",
   "execution_count": 6,
   "id": "8068bd11-02a3-4262-ac81-87bb796ed083",
   "metadata": {},
   "outputs": [
    {
     "data": {
      "text/plain": [
       "l          object\n",
       "c          object\n",
       "u          object\n",
       "p          object\n",
       "p_min      object\n",
       "p_max      object\n",
       "p_c        object\n",
       "p_min_c    object\n",
       "p_max_c    object\n",
       "d          object\n",
       "t          object\n",
       "t2         object\n",
       "f           int64\n",
       "s          object\n",
       "sku        object\n",
       "p_spl       int64\n",
       "id         object\n",
       "skus       object\n",
       "v_c         int64\n",
       "iso          bool\n",
       "vra        object\n",
       "vrc        object\n",
       "dtype: object"
      ]
     },
     "execution_count": 6,
     "metadata": {},
     "output_type": "execute_result"
    }
   ],
   "source": [
    "candy_df.dtypes"
   ]
  },
  {
   "cell_type": "code",
   "execution_count": 7,
   "id": "8b1fc2ff-6d51-4c19-937f-3b8a22a266cf",
   "metadata": {},
   "outputs": [
    {
     "data": {
      "text/plain": [
       "l               LIFE SAVERS Hard Candy - Five Flavor  (177g)\n",
       "c                                                        HKD\n",
       "u          /products/lifesaver-hard-candy-five-flavor-620...\n",
       "p                                                      30.00\n",
       "p_min                                                       \n",
       "p_max                                                       \n",
       "p_c                                                     0.00\n",
       "p_min_c                                                 0.00\n",
       "p_max_c                                                 0.00\n",
       "d          Store in cool dry place *Photo for reference o...\n",
       "t          https://cdn.shopify.com/s/files/1/2597/8324/pr...\n",
       "t2         https://assets.instantsearchplus.com/thumbs/cd...\n",
       "f                                                          0\n",
       "s                              4397579337771::31544713347115\n",
       "sku                                                  6200323\n",
       "p_spl                                                      0\n",
       "id                                             4397579337771\n",
       "skus               [6200323, LIFE, SAVERS, 什錦果味硬糖, , (177g)]\n",
       "v_c                                                        1\n",
       "iso                                                    False\n",
       "vra        [[31544713347115, [['Barcode', ['LIFE SAVERS 什...\n",
       "vrc                                                       {}\n",
       "Name: 0, dtype: object"
      ]
     },
     "execution_count": 7,
     "metadata": {},
     "output_type": "execute_result"
    }
   ],
   "source": [
    "candy_df.iloc[0]"
   ]
  },
  {
   "cell_type": "code",
   "execution_count": 8,
   "id": "8cea562e-7515-471c-b5f3-5285d094dee8",
   "metadata": {},
   "outputs": [],
   "source": [
    "# convert data type of price\n",
    "def convert_dtypes(df):\n",
    "    df['p'] = df['p'].astype(float)\n",
    "\n",
    "\n",
    "convert_dtypes(candy_df)\n",
    "convert_dtypes(coffee_df)\n",
    "convert_dtypes(noodle_df)"
   ]
  },
  {
   "cell_type": "code",
   "execution_count": 9,
   "id": "9a6556b2-f5bb-46e4-9624-506ba36ad563",
   "metadata": {},
   "outputs": [],
   "source": [
    "# filter unnecessary data\n",
    "candy_df = candy_df[~candy_df['l'].str.lower().str.contains('candle')]\n"
   ]
  },
  {
   "cell_type": "code",
   "execution_count": 10,
   "id": "fba4fa70-98bb-4eb2-a3d8-4d272c5c4281",
   "metadata": {},
   "outputs": [],
   "source": [
    "# split into subcategories\n",
    "jelly_df = candy_df[candy_df['l'].str.lower().str.contains('jelly')]\n",
    "gummy_df = candy_df[candy_df['l'].str.lower().str.contains('gummy')]\n",
    "tea_df = coffee_df[coffee_df['l'].str.lower().str.contains('tea')]\n",
    "coffee_df = coffee_df[~coffee_df['l'].str.lower().str.contains('tea')]\n",
    "udon_df = noodle_df[noodle_df['l'].str.lower().str.contains('udon')]\n",
    "ramen_df = noodle_df[noodle_df['l'].str.lower().str.contains('ramen')]\n"
   ]
  },
  {
   "cell_type": "markdown",
   "id": "b34f9d9b-f652-4803-9620-971df6cdeffb",
   "metadata": {},
   "source": [
    "## Fetch images"
   ]
  },
  {
   "cell_type": "code",
   "execution_count": 11,
   "id": "5a22ccf1-c620-46b5-af37-b297e92c42fa",
   "metadata": {},
   "outputs": [],
   "source": [
    "!mkdir -p images"
   ]
  },
  {
   "cell_type": "code",
   "execution_count": 13,
   "id": "f0375d14-0d1f-4cd2-8a72-522a9a5de526",
   "metadata": {},
   "outputs": [],
   "source": [
    "import requests\n",
    "import shutil\n",
    "\n",
    "def download_image(row):\n",
    "    dest = f'images/{row[\"sku\"]}.jpg'\n",
    "    url = row['t']\n",
    "    print(f'downloading image for {row[\"l\"]}')\n",
    "    with requests.get(url, stream=True) as r:\n",
    "        with open(dest, 'wb') as f:\n",
    "            shutil.copyfileobj(r.raw, f)\n",
    "    return row\n"
   ]
  },
  {
   "cell_type": "code",
   "execution_count": 14,
   "id": "69474520-9534-4c51-a791-8faf3b3841cc",
   "metadata": {
    "scrolled": true
   },
   "outputs": [
    {
     "name": "stdout",
     "output_type": "stream",
     "text": [
      "downloading image for HOEI Jelly Candy - Pure Fruits Flavour  (240g)\n",
      "downloading image for OTW Pineapple Agar Jelly Candy  (8pcs)\n",
      "downloading image for OTW Passion Fruit Agar Jelly Candy  (8pcs)\n",
      "downloading image for OHARA Kuzukiri Jelly Noodle (Peach Flavor)  (130g)\n",
      "downloading image for MARUHANICHIRO Fruitissier Fruit Jelly - Hokkaido Melon  (190g)\n",
      "downloading image for ORIHIRO Konnyaku Jelly - Muscat  (120g)\n",
      "downloading image for MARUMITSUSANYOU Fruits Jelly - Melon  (155g)\n",
      "downloading image for MARUMITSUSANYOU Fruits Jelly - Blueberry  (155g)\n",
      "downloading image for TARAMI Pure Jelly - Mixed Fruit  (270g)\n",
      "downloading image for WAKASHO Chia Seed Konnyaku Jelly - Setouchi Lemon Flavor  (10pcs)\n",
      "downloading image for TARAMI Melty Jelly - White Peach  (210g)\n",
      "downloading image for TARAMI Melty Jelly - Mikan  (210g)\n",
      "downloading image for ZAOFACTORY Yamagata White Peach Jelly  (195g)\n",
      "downloading image for EXCEL Mango Konnyaku Jelly  (170g)\n",
      "downloading image for TARAMI Fruit Store Jelly - Mango with Peach Pulp  (160g)\n",
      "downloading image for EXCEL Lichee Konnyaku Jelly  (170g)\n",
      "downloading image for EXCEL Passion Konnyaku Jelly  (170g)\n",
      "downloading image for EXCEL Peach Konnyaku Jelly  (170g)\n",
      "downloading image for EXCEL Grape Konnayaku Jelly  (170g)\n",
      "downloading image for ACE BAKERY Zoo Jelly  (23 x 15g)\n",
      "downloading image for JUPOM KAZUNO Jelly - Mandarin Orange  (250g)\n",
      "downloading image for AS FOODS 100% Juice Jelly - Mikan  (23pcs)\n",
      "downloading image for JELLY BELLY Bean Boozled Jelly Beans  (100g)\n",
      "downloading image for TARAMI Pure Jelly - Mikan  (270g)\n",
      "downloading image for NATURAL CONFECTIONERY Jelly Confectionery - Dinosaurs  (220g)\n",
      "downloading image for NATURAL CONFECTIONERY Jelly Confectionery - Snakes  (230g)\n",
      "downloading image for ORIHIRO Konnyaku Jelly - Peach & Mango & Grape  (24pcs)\n",
      "downloading image for JELLY BELLY Fruit Mix Flavour Jelly Beans [Bag]  (70g)\n",
      "downloading image for ORIHIRO Konnyaku Jelly - Peach  (120g)\n",
      "downloading image for WAKASHO Chia Seed Konnyaku Jelly - Peach Flavor  (10pcs)\n",
      "downloading image for WAKASHO Chia Seed Konnyaku Jelly - Grape Flavor  (10pcs)\n",
      "downloading image for TARAMI Pure Jelly - Peach  (270g)\n",
      "downloading image for MARUHANICHIRO Fruitissier Fruit Jelly - Grape  (190g)\n",
      "downloading image for ORIHIRO Konnyaku Jelly - Muscat Grape and Orange  (240g)\n",
      "downloading image for ORIHIRO Konnyaku Jelly - Grape  (120g)\n",
      "downloading image for JUPOM KAZUNO Jelly - White Peach  (250g)\n",
      "downloading image for JELLY BELLY 20 Flavour Jelly Beans [Bag]  (70g)\n",
      "downloading image for JUPOM KAZUNO Jelly - Kyoho Grape  (250g)\n",
      "downloading image for YUKIGUNIAGURI Konnyaku Jelly - Peach  (6 x 16g)\n",
      "downloading image for YAOKIN Nomuccho Jelly Powder - Muskmelon Flavor  (12g)\n",
      "downloading image for AS FOODS 100% Juice Jelly - Apple  (23pcs)\n",
      "downloading image for WAKASHO Chia Seed Konnyaku Jelly - Shine Muscat Flavor  (10pcs)\n",
      "downloading image for KODUKAYA Coffee Jelly  (175g)\n",
      "downloading image for BOURBON After Meal Jelly - Muscat  (138g)\n",
      "downloading image for HOKUSHIN One-Bite Jelly - Yamanashi White Peach  (10 x 21g)\n",
      "downloading image for HOKUSHIN One-Bite Jelly - Yamanashi Kyoho Grape  (10 x 21g)\n",
      "downloading image for WAKASHO Chia Seed Konnyaku Jelly - Apple Flavor  (10pcs)\n",
      "downloading image for ORIHIRO Konnyaku Jelly - Housui Pear Flavor  (6 x 20g)\n",
      "downloading image for ORIHIRO Konnyaku Jelly - Apple & Mikan Flavor  (12 x 20g)\n",
      "downloading image for SOUWA Arita Mikan Jelly  (4 x 115g)\n",
      "downloading image for CANDY KITTENS Vegan Kittens Shaped Gummy - Sweet Raspberry & Guava  (140g)\n",
      "downloading image for CANDY KITTENS Vegan Kittens Shaped Gummy - Wild Strawberry  (140g)\n",
      "downloading image for CANDY KITTENS Vegan Kittens Shaped Gummy - Sour Watermelon  (140g)\n",
      "downloading image for KASUGAI Peach Gummy Candy  (107g)\n",
      "downloading image for KASUGAI Lychee Gummy Candy  (102g)\n",
      "downloading image for KASUGAI Yuzu Gummy Candy  (102g)\n",
      "downloading image for KASUGAI Muscat Gummy Candy  (107g)\n",
      "downloading image for KASUGAI Fruits Mix Gummy Candy  (102g)\n",
      "downloading image for HARIBO Gold Bear Fruit Gummy  (250g)\n",
      "downloading image for UHA Gummy Supplement - Multi Vitamins  (20pcs)\n",
      "downloading image for HARIBO Happy Cola Gummy  (175g)\n",
      "downloading image for HARIBO Sour Gold Bear Fruit Gummy  (175g)\n",
      "downloading image for HARIBO French Fries-Shaped Fruits Gummy  (175g)\n",
      "downloading image for HARIBO Fruitmania Berry Gummy  (160g)\n",
      "downloading image for HARIBO Gold Bear Fruit Gummy  (175g)\n",
      "downloading image for YOMEISHU Peach Gummy Supplement - Collagen & Hyaluronic Acid  (40g)\n",
      "downloading image for YOMEISHU Passion Fruit Gummy Supplement - Maca & Zinc  (40g)\n",
      "downloading image for YOMEISHU Lemon Gummy Supplement - Vitamin C & Fibre  (40g)\n",
      "downloading image for YOMEISHU Prune Gummy Supplement - Iron & Folic Acid  (40g)\n",
      "downloading image for UHA Kororo Grape Gummy  (48g)\n",
      "downloading image for UHA Gummy Strip - Grape  (7pcs)\n",
      "downloading image for HARIBO Tangfastics Gummy  (160g)\n",
      "downloading image for HARIBO Supermix Gummy  (160g)\n",
      "downloading image for SENJYAKUAME Premium Gummy - Shizuoka Crown Melon  (34g)\n",
      "downloading image for BANDAI Sumikko Gurashi Tsuri Gummy  (14g)\n",
      "downloading image for FURUTA Peko x Sanrio Sticker with Strawberry Gummy  (19g)\n",
      "downloading image for LOTTE Pokemon Gummy - Assorted Flavor  (80g)\n",
      "downloading image for HARIBO Heart Shaped Gummy - Sweet Cherry Flavor  (160g)\n",
      "downloading image for UHA MIKAKUTO Cannelette Gummy - Strawberry  (40g)\n",
      "downloading image for HEART Tom & Jerry Cheese Flavor Gummy  (40g)\n",
      "downloading image for KABAYA Pureral Gummy - Muscat Flavor  (58g)\n",
      "downloading image for IDEA PACKAGE Gummy - Mix Juice Flavor  (40g)\n",
      "downloading image for IDEA PACKAGE Gummy - Lemon Squash Flavor  (40g)\n",
      "downloading image for LION Pear Gummy  (35g)\n",
      "downloading image for UHA MIKAKUTO Puccho Gummy - Assorted Flavor  (88g)\n",
      "downloading image for UHA MIKAKUTO Ice Cube Gummy - Soda Flavor  (40g)\n",
      "downloading image for UHA MIKAKUTO Water Gummy - Mikan Orange Flavor  (40g)\n",
      "downloading image for MEIJI Juice Gummy - Muscat  (54g)\n",
      "downloading image for ORION Tomica Seal with Gummy - Cola Flavor  (20g)\n",
      "downloading image for HARIBO Starmix Gummy  (160g)\n",
      "downloading image for UHA MIKAKUTO Cannelette Gummy  (40g)\n",
      "downloading image for MEIJI Lemon Gummy  (51g)\n",
      "downloading image for UHA Shigekix Gummy - Lemon Flavor  (20g)\n",
      "downloading image for UHA Gummy Supplement - Iron & Folic Acid  (20pcs)\n",
      "downloading image for MEIJI Chewy Juice Gummy - Grape  (48g)\n",
      "downloading image for OKIKO Guminchu Gummy - Okinawa Mango  (40g)\n",
      "downloading image for OKIKO Guminchu Gummy - Okinawa Pineapple  (40g)\n",
      "downloading image for UHA MIKAKUTO Qoo Gummy - Apple  (7pcs)\n",
      "downloading image for UHA Gummy Supplement - Vitamin C  (20pcs)\n",
      "downloading image for OWYN Non-Dairy Protein Shake - Cold Brew Coffee Flavor  (355mL)\n",
      "downloading image for JIMMY'S ICED COFFEE Extra Shot Flat White Coffee [Can]  (250mL)\n",
      "downloading image for JIMMY'S ICED COFFEE Oat Coffee [Can]  (250mL)\n",
      "downloading image for STARBUCKS Single Origin Coffee Sumatra Coffee Capsules  (55g)\n",
      "downloading image for STARBUCKS Pike Place Roast Black Coffee  (275mL)\n",
      "downloading image for FIRST COLONY Irish Cream Flavour First Colony Whole Coffee Bean  (340g)\n",
      "downloading image for OGAWA COFFEE Premium Blend Drip Coffee  (70g)\n",
      "downloading image for STARBUCKS Coffee Capsules - Smooth Caramel Flavor  (51g)\n",
      "downloading image for MARUYAMA COFFEE Drip Coffee Bag -  Medium Roast Geisha Blend  (3 x 11g)\n",
      "downloading image for JIMMY'S ICED COFFEE Mocha Coffee [Can]  (250mL)\n",
      "downloading image for SUNNYHILLS Coffee No.8 Drip Bag  (6 x 11.5g)\n",
      "downloading image for ILLY COFFEE Whole Bean Coffee - Classico Medium Roast  (250g)\n",
      "downloading image for ROYCE' Coffee Chocolate  (160g)\n",
      "downloading image for ROYCE' Coffee Beans Chocolate  (170g)\n",
      "downloading image for OGAWA COFFEE Charcoal Roasted Coffee - No Sugar  (1000mL)\n",
      "downloading image for OGAWA COFFEE Charcoal Roasted Coffee - Low Sugar  (1000mL)\n",
      "downloading image for OGAWA COFFEE Charcoal Roasted Café au Lait - Sweetened  (195g)\n",
      "downloading image for OGAWA COFFEE Charcoal Roasted Black Coffee - No Sugar  (195g)\n",
      "downloading image for MIKADO COFFEE Majo Liquid Coffee - No Sugar  (1000mL)\n",
      "downloading image for OGAWA COFFEE Organic Mocha Coffee Drip - Decaffeinated  (60g)\n",
      "downloading image for OGAWA COFFEE Organic Original Blend Roasted Coffee Beans  (160g)\n",
      "downloading image for OGAWA COFFEE Organic Fairtrade Mocha Blend Drip Coffee  (60g)\n",
      "downloading image for OGAWA COFFEE Organic Original Blend Drip Coffee  (60g)\n",
      "downloading image for OGAWA COFFEE Organic Fairtrade Mocha Blend Whole Coffee Bean  (160g)\n",
      "downloading image for ILLY COFFEE Drip Bag Coffee - Classico Medium Roast  (45g)\n",
      "downloading image for ILLY COFFEE Ground Coffee - Classico Filter Coffee Medium Roast  (250g)\n",
      "downloading image for OGAWA COFFEE Blue Mountain Blend Drip Coffee  (50g)\n",
      "downloading image for OGAWA COFFEE Blue Mountain Blend Ground Coffee  (160g)\n",
      "downloading image for ILLY COFFEE Drip Bag Coffee - Intenso Dark Roast  (45g)\n",
      "downloading image for HARIO Coffee Dripper V60 01 Clear\n",
      "downloading image for ARTNAP Coffee Dripper for 1 Cup\n",
      "downloading image for COSTA COFFEE Latte [CAN]  (250mL)\n",
      "downloading image for STONE COFFEE Whole Coffee bean - Costa Rica [Honey Process]  (220g)\n",
      "downloading image for MARUYAMA COFFEE Black Coffee  (1000mL)\n",
      "downloading image for THE COFFEE ACADEMICS Coffee Beans - 13 Ethiopia Yirgacheffe Washed  (200g)\n",
      "downloading image for THE COFFEE ACADEMICS Coffee Beans - 14 Brazil Miñas Gerais Pulped Natural  (200g)\n",
      "downloading image for THE COFFEE ACADEMICS Coffee Beans - 15 Colombia Antioquia Washed  (200g)\n",
      "downloading image for HARIO Coffee Plunger - Harior 7 - 300mL 2 Cups\n",
      "downloading image for KODUKAYA Coffee Jelly  (175g)\n",
      "downloading image for STARBUCKS Coffee Capsules - Vanilla Flavor  (51g)\n",
      "downloading image for MARUYAMA COFFEE Drip Coffee Bag - House Blend  (45g)\n",
      "downloading image for MARUYAMA COFFEE Drip Coffee Bag -  Dark Roast Kilimanjaro Blend  (45g)\n",
      "downloading image for BLACKJACK COFFEE Royal Blend Drip Coffee  (50g)\n",
      "downloading image for KOUFUKUYA Coffee Jelly - Low Sugar  (100g)\n",
      "downloading image for KOUFUKUYA Coffee Jelly - No Sugar  (100g)\n",
      "downloading image for NESCAFE Instant Coffee - Cappuccino  (124g)\n",
      "downloading image for TAIKOO Golden Coffee Sugar Crystals Sachets  (250g)\n",
      "downloading image for UCC Blended Coffee Drink  (185g)\n",
      "downloading image for UCC Blended Coffee Drink - Low Sugar  (185g)\n",
      "downloading image for MORIYAMA Organic Coffee - High Grade Coffee Blend  (1000g)\n",
      "downloading image for HIPEACE Organic Uji Green Tea  (330mL)\n",
      "downloading image for KIRIN Yasashisa Namacha Tea - Zero Caffeine  (430mL)\n",
      "downloading image for HOPTEA Sparkling Tea - The Green Tea One  (473mL)\n",
      "downloading image for ITOHKYUEMON Uji Matcha Green Tea Powder  (25g)\n",
      "downloading image for KIRIN Gogonokoucha Lemon Tea  (500mL)\n",
      "downloading image for SNAPPLE Lemon Tea  (473mL)\n",
      "downloading image for AGV Multigrain Activate Tea  (590mL)\n",
      "downloading image for HIPEACE Chestnut Flavor Roasted Green Tea  (350mL)\n",
      "downloading image for IYEMON Kyoto Iemon Green Tea with Matcha  (600mL)\n",
      "downloading image for SUNTORY Black Oolong Tea  (1050mL)\n",
      "downloading image for FLORTE Loose Floral Tea - Pink Rose Buds  (50g)\n",
      "downloading image for KIRIN Gogonokoucha Sugar-Free Lemon Tea  (500mL)\n",
      "downloading image for SNAPPLE Peach Flavor Tea  (473mL)\n",
      "downloading image for PG TIPS Decaf Pyramid Teabags  (35pcs)\n",
      "downloading image for MARIAGE FRERES Earl Grey d'Or Tea  (100g)\n",
      "downloading image for KIRIN Gogo-no-koucha Milk Tea  (500mL)\n",
      "downloading image for ITOEN Oi Ocha Unsweetened Green Tea  (600mL)\n",
      "downloading image for SUNTORY Oolong Tea  (525mL)\n",
      "downloading image for SNAPPLE Zero Sugar Raspberry Flavored Tea  (473mL)\n",
      "downloading image for ITOEN Oi Ocha Green Tea  (2L)\n",
      "downloading image for KIRIN Gogonokoucha Straight Tea  (500mL)\n",
      "downloading image for KIRIN Namacha Rich Green Tea  (2L)\n",
      "downloading image for ITOEN Oi Ocha Rich Taste Green Tea  (600mL)\n",
      "downloading image for SUNTORY Sesame Roasted Barley Tea  (350mL)\n",
      "downloading image for ITOEN Relax Jasmine Tea  (500mL)\n",
      "downloading image for HIPEACE Organic Roasted Brown Rice Tea  (330mL)\n",
      "downloading image for ITOEN Oi Ocha Rich Taste Green Tea  (2L)\n",
      "downloading image for AGV Ukon Activate Tea  (590mL)\n",
      "downloading image for ASAHI Jurokucha Tea - Caffeine Free  (630mL)\n",
      "downloading image for ITOEN Catechin Jasmine Tea  (350mL)\n",
      "downloading image for IYEMON Koime Strong Green Tea  (600mL)\n",
      "downloading image for SNAPPLE Half n' Half Lemonade Iced Tea  (473mL)\n",
      "downloading image for SNAPPLE Zero Sugar Half n' Half Lemonade Iced Tea  (473mL)\n",
      "downloading image for ARIZONA Iced Tea with Lemon Flavor  (650mL)\n",
      "downloading image for ARIZONA Green Tea with Ginseng and Honey  (650mL)\n",
      "downloading image for ARIZONA Iced Tea with Raspberry Flavor  (650mL)\n",
      "downloading image for KIRIN Namacha Rich Green Tea  (525mL)\n",
      "downloading image for MORIYAMA Tea Latte  (220mL)\n",
      "downloading image for KIRIN Gogonokoucha Rich Taste Black Tea - No Sugar  (500mL)\n",
      "downloading image for ITOEN Golden Oolong Tea  (500mL)\n",
      "downloading image for IYEMON Tokucha Green Tea - with Quercetin  (500mL)\n",
      "downloading image for IYEMON Tokucha Jasmine Tea  (500mL)\n",
      "downloading image for FUKUJUEN Iyemon Meisyou Matcha Blend Sencha Tea Bags  (20 x 2g)\n",
      "downloading image for HOPTEA Sparkling Black Tea - The Really Hoppy One  (473mL)\n",
      "downloading image for HOPTEA Sparkling Chamomile Tea - The Calm One  (473mL)\n",
      "downloading image for KARADA SUKOYAKACHA Blend Tea W  (350mL)\n",
      "downloading image for KKOH SHAEM Honey Citron Tea (Portion Pack)  (15 x 30g)\n",
      "downloading image for KKOH SHAEM Honey Lemon Tea  (1kg)\n",
      "downloading image for KKOH SHAEM Honey Citron Tea  (1kg)\n",
      "downloading image for KARADA MEGURI CHA Oolong Tea Blend  (410mL)\n",
      "downloading image for KAYANOYA Dried Udon Noodle  (200g)\n",
      "downloading image for HANAYAMAUDON Onihimokawa Dried Flat Udon Noodle  (200g)\n",
      "downloading image for SUNSAS Udon Noodle with Soup  (440g)\n",
      "downloading image for AKITAKOUBUN Handmade Inaniwa Udon Noodle  (400g)\n",
      "downloading image for MIYUKIYA FUJIMOTO Konjac Udon Noodle  (180g)\n",
      "downloading image for SUGAKIYA Dashimeijin Instant Kansai Style Udon Noodle  (130g)\n",
      "downloading image for TOYO SUISAN Maruchan Bean Curd Skin Udon Noodle - Red Cup  (94g)\n",
      "downloading image for NISSIN Cup Noodle - Sukiyaki Style Mysterious Meat Gyudon Rice  (118g)\n",
      "downloading image for MISOHAN Nagasaki Udon Noodle  (360g)\n",
      "downloading image for ITOMEN Ise Udon Noodle with Sauce  (568g)\n",
      "downloading image for SANUKIBUSSAN Udonken Udon Noodle  (300g)\n",
      "downloading image for GOTOMARUMASU Plum Udon Noodle  (240g)\n",
      "downloading image for TANABIKISEIMEN Baby Udon Noodle - Spinach [7+ Months]  (100g)\n",
      "downloading image for ITSUKIFOODS Rural Udon Noodle  (200g)\n",
      "downloading image for TAKASAGO Fried Udon Noodle with Sauce - Aomori Nebarigoshi Wheat Used  (445.4g)\n",
      "downloading image for KAGAWAFOODS Sanuki Udon Noodle  (1000g)\n",
      "downloading image for YAMADAI Sugomen Instant Noodle - Rich Seafood Stock Udon  (105g)\n",
      "downloading image for MAKABEYA Obako Inaniwa Udon Noodle  (200g)\n",
      "downloading image for KANBUN Dried Inaniwa Udon Noodle  (160g)\n",
      "downloading image for HONDA SHOTEN Tsurutsuru Udon Noodle  (180g)\n",
      "downloading image for KAIZUYA Himi Thin Udon Noodle  (200g)\n",
      "downloading image for NAGASAKIGOTO Goto Handmade Udon Noodle  (200g)\n",
      "downloading image for OGAWASEIMEN Yamagata Flat Udon Noodle  (3 x 200g)\n",
      "downloading image for SATOYOSUKE Inaniwa Dried Udon Noodle  (140g)\n",
      "downloading image for MIYAKOICHI Premium Flat Udon Noodle  (600g)\n",
      "downloading image for OKAYAMATENOBE Kamogawa Yuzu Udon Noodle  (180g)\n",
      "downloading image for NAGOYA KISHIMENTEI Curry Udon Noodle  (195g)\n",
      "downloading image for NONG SHIM Big Bowl Noodle - Udon  (111g)\n",
      "downloading image for BADASOOP Gamtae Handpulled Udon Noodle  (400g)\n",
      "downloading image for UZUKI SEIMEN Yamagata Turuturu Udon Noodle  (200g)\n",
      "downloading image for KYOYA Semi-Dried Inaniwa Udon Noodle  (200g)\n",
      "downloading image for SANSHU Semi-Dried Sanuki Udon Noodle  (300g)\n",
      "downloading image for TABLEMARK Katokichi Inaniwa Style Udon Noodle with Hokkaido Wheat  (900g)\n",
      "downloading image for KINREI Miso Soup Boiled Udon Noodle  (500g)\n",
      "downloading image for MIYAJIMA Soup for Udon & Buckwheat Noodle  (300g)\n",
      "downloading image for ISHIMARU SEIMEN Sanuki Pestled Udon Noodle  (300g)\n",
      "downloading image for YAGICHOHONTEN Tokushima Handa Tenobe Udon Noodle  (450g)\n",
      "downloading image for ISHIMARU SEIMEN Dried Houjun Sanuki Udon Noodle  (400g)\n",
      "downloading image for SUGAKIYA Dashimeijin Instant Wakame Seaweed Udon Noodle  (129g)\n",
      "downloading image for TAKASAGO Towada Barayaki Style Fried Udon Noodle with Sweet Soy Sauce  (500g)\n",
      "downloading image for HIGASHIMARU Soup Stock Powder for Udon Noodle - Less Salt  (48g)\n",
      "downloading image for TOYO SUISAN Seasoned Bean Curd Skin Udon Noodle  (113g)\n",
      "downloading image for SANUKIBUSSAN 100% Japanese Wheat Made Dried Sanuki Udon Noodle  (300g)\n",
      "downloading image for GLICO Udon Noodles Cooked with Chicken and Vegetables [From 1 Year Old]  (220g)\n",
      "downloading image for NAGOYA KISHIMENTEI Ankake Udon  (195g)\n",
      "downloading image for YAMADAI Teori Kenchin Mixed Vegetable Soup Udon  (116g)\n",
      "downloading image for NONG SHIM Seang Seang Soup Udon  (253g)\n",
      "downloading image for NONG SHIM Seang Seang Yaki Udon (Hot Flavor)  (251g)\n",
      "downloading image for USUYA Hand-Made Udon - Prawn & Egg  (1kg)\n",
      "downloading image for KINTOBI Thin Udon Noodles - with Isomaltodextrin (Dietary Fiber)  (200g)\n",
      "downloading image for ICHIRAN Ichiran Ramen Hakata Style Straight Noodle with Ichiran's Original Red Chili Spice  (645g)\n",
      "downloading image for MARUTAI Ramen Noodle  (164g)\n",
      "downloading image for MARUTAI Kagoshima Ramen Noodle - Black Pork Bone Soup  (185g)\n",
      "downloading image for MARUTAI Kumamoto Ramen Noodle - Black Sesame Oil & Pork Bone Soup  (186g)\n",
      "downloading image for MARUTAI Saga Ramen Noodle - Beef & Salt Soup  (185g)\n",
      "downloading image for MIYAKOICHI Chuka Ramen Noodle  (140g)\n",
      "downloading image for OKIKO Instant Ramen Noodle - Chicken Flavor  (4 x 28g)\n",
      "downloading image for YAMADAI Sugomen Instant Noodle - Hyogo Banshu Sweet Soy Sauce Soup Ramen  (123g)\n",
      "downloading image for MARUTAI Instant Kagoshima Ramen Noodle - Pork Bone Soup  (72g)\n",
      "downloading image for MARUTAI Instant Kumamoto Ramen Noodle - Pork Bone Soup  (70g)\n",
      "downloading image for MARUTAI Hakata Nagahama Ramen Noodle - Pork Bone Soup  (185g)\n",
      "downloading image for FUJIWARA SEIMEN Hokkaido Ramen Noodle - Shrimp & Salt Soup  (111.5g)\n",
      "downloading image for YAMADAI Sugomen Instant Ramen Noodle - Yokohama Vegetable Soup  (113g)\n",
      "downloading image for NISHIYAMA SEIMEN Fresh Ramen Noodle  (140g)\n",
      "downloading image for FUJIWARA SEIMEN Hokkaido Ramen Noodle - Crab & Miso Soup  (101g)\n",
      "downloading image for YAMADAI Sugomen Instant Ramen Noodle - Sendai Spicy Miso  (152g)\n",
      "downloading image for YAMADAI Sugomen Instant Ramen Noodle - Sano Soy Sauce Soup  (115g)\n",
      "downloading image for OTTOGI Jin Ramen Cup Noodle - Mild  (65g)\n",
      "downloading image for YAMADAI Sugomen Instant Ramen Noodle - Leek & Miso  (133g)\n",
      "downloading image for SUGAKIYA Instant Toyama Style Ramen Noodle - Black Soup  (108g)\n",
      "downloading image for SUGAKIYA Instant Toyama Style Ramen Noodle - Black Soup [Bag]  (120g)\n",
      "downloading image for ICHIRAN Instant Ichiran Ramen Curly Noodle with Ichiran's Original Red Chili Spice  (133g)\n",
      "downloading image for OGAWASEIMEN Spicy Miso Soup Ramen Noodle  (332g)\n",
      "downloading image for DAIKYU Sendai Yatai Style Miso Ramen Noodle  (125g)\n",
      "downloading image for KURATA Grilled Pork Block for Ramen Noodle  (1pc)\n",
      "downloading image for FUJIWARA SEIMEN Hokkaido Hakodate Salt Ramen Noodle  (104.5g)\n",
      "downloading image for KURATA Grilled Pork Slice for Ramen Noodle  (77g)\n",
      "downloading image for FUJIWARA SEIMEN Hokkaido Asahikawa Soy Sauce Ramen Noodle  (105.5g)\n",
      "downloading image for NISHIYAMA SEIMEN Sliced Grilled Pork for Ramen Noodle  (50g)\n",
      "downloading image for DAIKYU Sendai Yatai Style Soy Sauce Ramen Noodle  (123g)\n",
      "downloading image for OGAWASEIMEN Chicken Veggie Soy Sauce Based Soup Ramen Noodle  (270g)\n",
      "downloading image for TSUBASA Hachikou Hinajidori Chicken Broth Soy Sauce Ramen  (110g)\n",
      "downloading image for KIKUSUI Hakodate Ichimonji Salt Soup Ramen  (320g)\n",
      "downloading image for OHSAWA JAPAN Instant Vegan Brown Rice Ramen - Sesame & Miso Soup  (119g)\n",
      "downloading image for TOMIKAWA Stone Ground Ramen - Soy Sauce  (282g)\n",
      "downloading image for YAMADAI Sugomen Instant Ramen - Yokohama Pork Bone & Soy Sauce Soup  (117g)\n",
      "downloading image for YAMADAI Sugomen Takeoka Soy Sauce Ramen with Pork & Bamboo Shoots  (120g)\n",
      "downloading image for KURATA Menzo Hiroshima Pork Bone Soysauce Ramen  (141g)\n",
      "downloading image for KURATA Menzo Onomichi Soy Sauce Ramen  (140g)\n",
      "downloading image for OHSAWA JAPAN Instant Vegan Brown Rice Tantan Ramen (No Artificial Flavor Enhancer)  (132g)\n",
      "downloading image for OHSAWA JAPAN Instant Vegan Brown Rice Ramen - Soy Sauce (No Artificial Flavour Enhancer)  (112g)\n",
      "downloading image for OYAMASEIMEN Saury Ramen  (128g)\n",
      "downloading image for KIKUSUI Asahikawa Santouka - Salt & Porkbone Soup Ramen  (316g)\n",
      "downloading image for KIKUSUI Ebisoba Ichigen - Shrimp & Miso Soup Ramen  (326g)\n",
      "downloading image for COROKU Shrimp and Miso Soup Ramen  (137g)\n",
      "downloading image for YAMADAI Sugomen Instant Ramen - Niigata Pork Bone Soy Sauce Soup  (124g)\n",
      "downloading image for YAMADAI Sugomen Instant Ramen - Shizuoka Yaizu Bonito Ramen  (109g)\n",
      "downloading image for YAMADAI Sugomen Hakodate Seafood Salt Ramen  (108g)\n",
      "downloading image for YAMADAI Sugomen Tokushima Soy Sauce Pork Bone Ramen  (125g)\n",
      "downloading image for ISLANDFOOD Ishikawa Kanazawa Pork Bone Soy Sauce Ramen - Ramen Sekai  (330g)\n"
     ]
    }
   ],
   "source": [
    "for df in [jelly_df, gummy_df, coffee_df, tea_df, udon_df, ramen_df]:\n",
    "    df.iloc[:50].apply(download_image, axis=1)\n"
   ]
  },
  {
   "cell_type": "code",
   "execution_count": null,
   "id": "30d65e43-ec18-4cd4-b564-40036217527c",
   "metadata": {},
   "outputs": [],
   "source": [
    "type_to_sku = {}\n",
    "for name in ['jelly', 'gummy', 'coffee', 'tea', 'udon', 'ramen']:\n",
    "    skus = eval(f'{name}_df').iloc[:50]['sku']\n",
    "    type_to_sku[name] = skus.to_list()\n"
   ]
  },
  {
   "cell_type": "code",
   "execution_count": 12,
   "id": "0ca5bd54-16a1-449a-8b59-568c958600e7",
   "metadata": {},
   "outputs": [
    {
     "ename": "FileNotFoundError",
     "evalue": "[Errno 2] No such file or directory: 'images/301495226.jpg'",
     "output_type": "error",
     "traceback": [
      "\u001b[0;31m---------------------------------------------------------------------------\u001b[0m",
      "\u001b[0;31mFileNotFoundError\u001b[0m                         Traceback (most recent call last)",
      "Cell \u001b[0;32mIn[12], line 5\u001b[0m\n\u001b[1;32m      2\u001b[0m \u001b[38;5;28;01mimport\u001b[39;00m \u001b[38;5;21;01mnumpy\u001b[39;00m \u001b[38;5;28;01mas\u001b[39;00m \u001b[38;5;21;01mnp\u001b[39;00m\n\u001b[1;32m      3\u001b[0m \u001b[38;5;28;01mfrom\u001b[39;00m \u001b[38;5;21;01mPIL\u001b[39;00m \u001b[38;5;28;01mimport\u001b[39;00m Image\n\u001b[0;32m----> 5\u001b[0m jelly_images \u001b[38;5;241m=\u001b[39m [np\u001b[38;5;241m.\u001b[39marray(Image\u001b[38;5;241m.\u001b[39mopen(\u001b[38;5;124mf\u001b[39m\u001b[38;5;124m'\u001b[39m\u001b[38;5;124mimages/\u001b[39m\u001b[38;5;132;01m{\u001b[39;00msku\u001b[38;5;132;01m}\u001b[39;00m\u001b[38;5;124m.jpg\u001b[39m\u001b[38;5;124m'\u001b[39m)\u001b[38;5;241m.\u001b[39mconvert(\u001b[38;5;124m'\u001b[39m\u001b[38;5;124mRGB\u001b[39m\u001b[38;5;124m'\u001b[39m)\u001b[38;5;241m.\u001b[39mresize((\u001b[38;5;241m480\u001b[39m,\u001b[38;5;241m480\u001b[39m)))\u001b[38;5;241m.\u001b[39mflatten()\u001b[38;5;241m.\u001b[39mtolist() \u001b[38;5;28;01mfor\u001b[39;00m sku \u001b[38;5;129;01min\u001b[39;00m jelly_df[\u001b[38;5;124m'\u001b[39m\u001b[38;5;124msku\u001b[39m\u001b[38;5;124m'\u001b[39m]\u001b[38;5;241m.\u001b[39mtolist()[:\u001b[38;5;241m50\u001b[39m]]\n\u001b[1;32m      6\u001b[0m jelly_images \u001b[38;5;241m=\u001b[39m np\u001b[38;5;241m.\u001b[39marray(jelly_images)\n\u001b[1;32m      8\u001b[0m gummy_images \u001b[38;5;241m=\u001b[39m [np\u001b[38;5;241m.\u001b[39marray(Image\u001b[38;5;241m.\u001b[39mopen(\u001b[38;5;124mf\u001b[39m\u001b[38;5;124m'\u001b[39m\u001b[38;5;124mimages/\u001b[39m\u001b[38;5;132;01m{\u001b[39;00msku\u001b[38;5;132;01m}\u001b[39;00m\u001b[38;5;124m.jpg\u001b[39m\u001b[38;5;124m'\u001b[39m)\u001b[38;5;241m.\u001b[39mconvert(\u001b[38;5;124m'\u001b[39m\u001b[38;5;124mRGB\u001b[39m\u001b[38;5;124m'\u001b[39m)\u001b[38;5;241m.\u001b[39mresize((\u001b[38;5;241m480\u001b[39m,\u001b[38;5;241m480\u001b[39m)))\u001b[38;5;241m.\u001b[39mflatten()\u001b[38;5;241m.\u001b[39mtolist() \u001b[38;5;28;01mfor\u001b[39;00m sku \u001b[38;5;129;01min\u001b[39;00m gummy_df[\u001b[38;5;124m'\u001b[39m\u001b[38;5;124msku\u001b[39m\u001b[38;5;124m'\u001b[39m]\u001b[38;5;241m.\u001b[39mtolist()[:\u001b[38;5;241m50\u001b[39m]]\n",
      "Cell \u001b[0;32mIn[12], line 5\u001b[0m, in \u001b[0;36m<listcomp>\u001b[0;34m(.0)\u001b[0m\n\u001b[1;32m      2\u001b[0m \u001b[38;5;28;01mimport\u001b[39;00m \u001b[38;5;21;01mnumpy\u001b[39;00m \u001b[38;5;28;01mas\u001b[39;00m \u001b[38;5;21;01mnp\u001b[39;00m\n\u001b[1;32m      3\u001b[0m \u001b[38;5;28;01mfrom\u001b[39;00m \u001b[38;5;21;01mPIL\u001b[39;00m \u001b[38;5;28;01mimport\u001b[39;00m Image\n\u001b[0;32m----> 5\u001b[0m jelly_images \u001b[38;5;241m=\u001b[39m [np\u001b[38;5;241m.\u001b[39marray(Image\u001b[38;5;241m.\u001b[39mopen(\u001b[38;5;124mf\u001b[39m\u001b[38;5;124m'\u001b[39m\u001b[38;5;124mimages/\u001b[39m\u001b[38;5;132;01m{\u001b[39;00msku\u001b[38;5;132;01m}\u001b[39;00m\u001b[38;5;124m.jpg\u001b[39m\u001b[38;5;124m'\u001b[39m)\u001b[38;5;241m.\u001b[39mconvert(\u001b[38;5;124m'\u001b[39m\u001b[38;5;124mRGB\u001b[39m\u001b[38;5;124m'\u001b[39m)\u001b[38;5;241m.\u001b[39mresize((\u001b[38;5;241m480\u001b[39m,\u001b[38;5;241m480\u001b[39m)))\u001b[38;5;241m.\u001b[39mflatten()\u001b[38;5;241m.\u001b[39mtolist() \u001b[38;5;28;01mfor\u001b[39;00m sku \u001b[38;5;129;01min\u001b[39;00m jelly_df[\u001b[38;5;124m'\u001b[39m\u001b[38;5;124msku\u001b[39m\u001b[38;5;124m'\u001b[39m]\u001b[38;5;241m.\u001b[39mtolist()[:\u001b[38;5;241m50\u001b[39m]]\n\u001b[1;32m      6\u001b[0m jelly_images \u001b[38;5;241m=\u001b[39m np\u001b[38;5;241m.\u001b[39marray(jelly_images)\n\u001b[1;32m      8\u001b[0m gummy_images \u001b[38;5;241m=\u001b[39m [np\u001b[38;5;241m.\u001b[39marray(Image\u001b[38;5;241m.\u001b[39mopen(\u001b[38;5;124mf\u001b[39m\u001b[38;5;124m'\u001b[39m\u001b[38;5;124mimages/\u001b[39m\u001b[38;5;132;01m{\u001b[39;00msku\u001b[38;5;132;01m}\u001b[39;00m\u001b[38;5;124m.jpg\u001b[39m\u001b[38;5;124m'\u001b[39m)\u001b[38;5;241m.\u001b[39mconvert(\u001b[38;5;124m'\u001b[39m\u001b[38;5;124mRGB\u001b[39m\u001b[38;5;124m'\u001b[39m)\u001b[38;5;241m.\u001b[39mresize((\u001b[38;5;241m480\u001b[39m,\u001b[38;5;241m480\u001b[39m)))\u001b[38;5;241m.\u001b[39mflatten()\u001b[38;5;241m.\u001b[39mtolist() \u001b[38;5;28;01mfor\u001b[39;00m sku \u001b[38;5;129;01min\u001b[39;00m gummy_df[\u001b[38;5;124m'\u001b[39m\u001b[38;5;124msku\u001b[39m\u001b[38;5;124m'\u001b[39m]\u001b[38;5;241m.\u001b[39mtolist()[:\u001b[38;5;241m50\u001b[39m]]\n",
      "File \u001b[0;32m~/miniconda3/envs/ai/lib/python3.11/site-packages/PIL/Image.py:3218\u001b[0m, in \u001b[0;36mopen\u001b[0;34m(fp, mode, formats)\u001b[0m\n\u001b[1;32m   3215\u001b[0m     filename \u001b[38;5;241m=\u001b[39m fp\n\u001b[1;32m   3217\u001b[0m \u001b[38;5;28;01mif\u001b[39;00m filename:\n\u001b[0;32m-> 3218\u001b[0m     fp \u001b[38;5;241m=\u001b[39m builtins\u001b[38;5;241m.\u001b[39mopen(filename, \u001b[38;5;124m\"\u001b[39m\u001b[38;5;124mrb\u001b[39m\u001b[38;5;124m\"\u001b[39m)\n\u001b[1;32m   3219\u001b[0m     exclusive_fp \u001b[38;5;241m=\u001b[39m \u001b[38;5;28;01mTrue\u001b[39;00m\n\u001b[1;32m   3221\u001b[0m \u001b[38;5;28;01mtry\u001b[39;00m:\n",
      "\u001b[0;31mFileNotFoundError\u001b[0m: [Errno 2] No such file or directory: 'images/301495226.jpg'"
     ]
    }
   ],
   "source": [
    "# load images\n",
    "import numpy as np\n",
    "from PIL import Image\n",
    "\n",
    "jelly_images = [np.array(Image.open(f'images/{sku}.jpg').convert('RGB').resize((480,480))).flatten().tolist() for sku in jelly_df['sku'].tolist()[:50]]\n",
    "jelly_images = np.array(jelly_images)\n",
    "\n",
    "gummy_images = [np.array(Image.open(f'images/{sku}.jpg').convert('RGB').resize((480,480))).flatten().tolist() for sku in gummy_df['sku'].tolist()[:50]]\n",
    "gummy_images = np.array(gummy_images)\n",
    "\n",
    "coffee_images = [np.array(Image.open(f'images/{sku}.jpg').convert('RGB').resize((480,480))).flatten().tolist() for sku in coffee_df['sku'].tolist()[:50]]\n",
    "coffee_images = np.array(coffee_images)\n",
    "\n",
    "tea_images = [np.array(Image.open(f'images/{sku}.jpg').convert('RGB').resize((480,480))).flatten().tolist() for sku in tea_df['sku'].tolist()[:50]]\n",
    "tea_images = np.array(tea_images)\n",
    "\n",
    "udon_images = [np.array(Image.open(f'images/{sku}.jpg').convert('RGB').resize((480,480))).flatten().tolist() for sku in udon_df['sku'].tolist()[:50]]\n",
    "udon_images = np.array(udon_images)\n",
    "\n",
    "ramen_images = [np.array(Image.open(f'images/{sku}.jpg').convert('RGB').resize((480,480))).flatten().tolist() for sku in ramen_df['sku'].tolist()[:50]]\n",
    "ramen_images = np.array(ramen_images)\n"
   ]
  },
  {
   "cell_type": "code",
   "execution_count": 42,
   "id": "f3ee52f9-4fe9-46c5-b4b5-f5c807bc35b9",
   "metadata": {},
   "outputs": [
    {
     "name": "stderr",
     "output_type": "stream",
     "text": [
      "/home/anthony/miniconda3/envs/ai/lib/python3.11/site-packages/PIL/Image.py:970: UserWarning: Palette images with Transparency expressed in bytes should be converted to RGBA images\n",
      "  warnings.warn(\n"
     ]
    },
    {
     "name": "stdout",
     "output_type": "stream",
     "text": [
      "[0 0 0 0 0 0 0 0 0 0 0 0 0 0 0 0 0 0 0 0 0 0 0 0 0 0 0 0 0 0 0 0 0 0 0 0 0\n",
      " 0 0 0 0 0 0 0 0 0 0 0 0 0 1 1 1 1 1 1 1 1 1 1 1 1 1 1 1 1 1 1 1 1 1 1 1 1\n",
      " 1 1 1 1 1 1 1 1 1 1 1 1 1 1 1 1 1 1 1 1 1 1 1 1 1 2 2 2 2 2 2 2 2 2 2 2 2\n",
      " 2 2 2 2 2 2 2 2 2 2 2 2 2 2 2 2 2 2 2 2 2 2 2 2 2 2 2 2 2 2 2 2 2 2 2 2 2\n",
      " 2 3 3 3 3 3 3 3 3 3 3 3 3 3 3 3 3 3 3 3 3 3 3 3 3 3 3 3 3 3 3 3 3 3 3 3 3\n",
      " 3 3 3 3 3 3 3 3 3 3 3 3 3 3 4 4 4 4 4 4 4 4 4 4 4 4 4 4 4 4 4 4 4 4 4 4 4\n",
      " 4 4 4 4 4 4 4 4 4 4 4 4 4 4 4 4 4 4 4 4 4 4 4 4 4 4 4 5 5 5 5 5 5 5 5 5 5\n",
      " 5 5 5 5 5 5 5 5 5 5 5 5 5 5 5 5 5 5 5 5 5 5 5 5 5 5 5 5 5 5 5 5 5 5 5 5 5\n",
      " 5 5 5]\n"
     ]
    }
   ],
   "source": [
    "# load images 2\n",
    "import json\n",
    "import numpy as np\n",
    "from PIL import Image\n",
    "\n",
    "\n",
    "with open('images/type_to_sku.json') as f:\n",
    "    type_to_sku = json.loads(f.read())\n",
    "\n",
    "\n",
    "labelmap = list(type_to_sku)\n",
    "images = []\n",
    "labels = []\n",
    "for i, (name, sku_ls) in enumerate(type_to_sku.items()):\n",
    "    labels.append(np.ones_like(sku_ls, int) * i)\n",
    "    images += [np.array(Image.open(f'images/{sku}.jpg').convert('RGB').resize((480,480))).flatten().tolist()\n",
    "               for sku in sku_ls]\n",
    "\n",
    "labels = np.concatenate(labels)\n",
    "images = np.array(images)\n",
    "\n",
    "print(labels)\n"
   ]
  },
  {
   "cell_type": "markdown",
   "id": "69d2c525-5d1a-4b90-aae9-7a8383e5ed35",
   "metadata": {},
   "source": [
    "## Prepare labels and data"
   ]
  },
  {
   "cell_type": "code",
   "execution_count": 2,
   "id": "cfa9f89f-35af-413a-9050-5f08deb137e9",
   "metadata": {},
   "outputs": [
    {
     "ename": "NameError",
     "evalue": "name 'jelly_images' is not defined",
     "output_type": "error",
     "traceback": [
      "\u001b[0;31m---------------------------------------------------------------------------\u001b[0m",
      "\u001b[0;31mNameError\u001b[0m                                 Traceback (most recent call last)",
      "Cell \u001b[0;32mIn[2], line 4\u001b[0m\n\u001b[1;32m      1\u001b[0m labelmap \u001b[38;5;241m=\u001b[39m [\u001b[38;5;124m'\u001b[39m\u001b[38;5;124mjelly\u001b[39m\u001b[38;5;124m'\u001b[39m, \u001b[38;5;124m'\u001b[39m\u001b[38;5;124mgummy\u001b[39m\u001b[38;5;124m'\u001b[39m, \u001b[38;5;124m'\u001b[39m\u001b[38;5;124mcoffee\u001b[39m\u001b[38;5;124m'\u001b[39m, \u001b[38;5;124m'\u001b[39m\u001b[38;5;124mtea\u001b[39m\u001b[38;5;124m'\u001b[39m, \u001b[38;5;124m'\u001b[39m\u001b[38;5;124mudon\u001b[39m\u001b[38;5;124m'\u001b[39m, \u001b[38;5;124m'\u001b[39m\u001b[38;5;124mramen\u001b[39m\u001b[38;5;124m'\u001b[39m]\n\u001b[1;32m      3\u001b[0m labels \u001b[38;5;241m=\u001b[39m np\u001b[38;5;241m.\u001b[39mconcatenate((np\u001b[38;5;241m.\u001b[39mzeros(\u001b[38;5;241m50\u001b[39m), np\u001b[38;5;241m.\u001b[39mones(\u001b[38;5;241m50\u001b[39m), np\u001b[38;5;241m.\u001b[39mones(\u001b[38;5;241m50\u001b[39m)\u001b[38;5;241m*\u001b[39m\u001b[38;5;241m2\u001b[39m, np\u001b[38;5;241m.\u001b[39mones(\u001b[38;5;241m50\u001b[39m)\u001b[38;5;241m*\u001b[39m\u001b[38;5;241m3\u001b[39m, np\u001b[38;5;241m.\u001b[39mones(\u001b[38;5;241m50\u001b[39m)\u001b[38;5;241m*\u001b[39m\u001b[38;5;241m4\u001b[39m, np\u001b[38;5;241m.\u001b[39mones(\u001b[38;5;241m50\u001b[39m)\u001b[38;5;241m*\u001b[39m\u001b[38;5;241m5\u001b[39m))\n\u001b[0;32m----> 4\u001b[0m images \u001b[38;5;241m=\u001b[39m np\u001b[38;5;241m.\u001b[39mconcatenate((jelly_images, gummy_images, coffee_images, tea_images, udon_images, ramen_images))\n",
      "\u001b[0;31mNameError\u001b[0m: name 'jelly_images' is not defined"
     ]
    }
   ],
   "source": [
    "labelmap = ['jelly', 'gummy', 'coffee', 'tea', 'udon', 'ramen']\n",
    "\n",
    "labels = np.concatenate((np.zeros(50), np.ones(50), np.ones(50)*2, np.ones(50)*3, np.ones(50)*4, np.ones(50)*5))\n",
    "images = np.concatenate((jelly_images, gummy_images, coffee_images, tea_images, udon_images, ramen_images))\n"
   ]
  },
  {
   "cell_type": "code",
   "execution_count": 6,
   "id": "0c8d19be-7311-451c-ac70-12e5c7809f13",
   "metadata": {},
   "outputs": [
    {
     "data": {
      "text/plain": [
       "(299,)"
      ]
     },
     "execution_count": 6,
     "metadata": {},
     "output_type": "execute_result"
    }
   ],
   "source": [
    "labels.shape"
   ]
  },
  {
   "cell_type": "code",
   "execution_count": 7,
   "id": "76fc0860-85a0-46ab-932e-dcb0b1d3dc5c",
   "metadata": {},
   "outputs": [
    {
     "data": {
      "text/plain": [
       "(299, 691200)"
      ]
     },
     "execution_count": 7,
     "metadata": {},
     "output_type": "execute_result"
    }
   ],
   "source": [
    "images.shape"
   ]
  },
  {
   "cell_type": "code",
   "execution_count": 43,
   "id": "6ce968dc-b1fe-429b-9a36-cbf3be57355a",
   "metadata": {},
   "outputs": [],
   "source": [
    "from sklearn.model_selection import train_test_split\n",
    "\n",
    "X_train, X_test, y_train, y_test = train_test_split(images, labels, test_size=0.2, random_state=42, shuffle=True)\n"
   ]
  },
  {
   "cell_type": "markdown",
   "id": "6c7ae950-4112-41fa-9968-d66dd0700394",
   "metadata": {},
   "source": [
    "# Train Image Classification Model"
   ]
  },
  {
   "cell_type": "markdown",
   "id": "c8ef37a2-df65-4a2a-88a2-f831d650a280",
   "metadata": {},
   "source": [
    "## 1. SVC"
   ]
  },
  {
   "cell_type": "markdown",
   "id": "12890931-ff94-4a9d-8c74-a9c29e1463e4",
   "metadata": {},
   "source": [
    "First, we try SVC to classify those images directly."
   ]
  },
  {
   "cell_type": "code",
   "execution_count": 7,
   "id": "dd0b3d13-94a2-493b-983e-6120b205e208",
   "metadata": {},
   "outputs": [
    {
     "data": {
      "text/plain": [
       "0.6"
      ]
     },
     "execution_count": 7,
     "metadata": {},
     "output_type": "execute_result"
    }
   ],
   "source": [
    "from sklearn.svm import SVC\n",
    "from sklearn.metrics import f1_score\n",
    "\n",
    "clf = SVC().fit(X_train, y_train)\n",
    "prediction = clf.predict(X_test)\n",
    "\n",
    "f1_score(y_test, prediction, average='micro')"
   ]
  },
  {
   "cell_type": "code",
   "execution_count": 8,
   "id": "8d184d1c-bce1-4b24-aee3-70f51a1046e6",
   "metadata": {},
   "outputs": [
    {
     "data": {
      "image/png": "[encoded data removed]",
      "text/plain": [
       "<Figure size 1200x300 with 6 Axes>"
      ]
     },
     "metadata": {},
     "output_type": "display_data"
    }
   ],
   "source": [
    "import matplotlib.pyplot as plt\n",
    "\n",
    "_, axes = plt.subplots(nrows=1, ncols=6, figsize=(12, 3))\n",
    "for ax, image, pred in zip(axes, X_test, prediction):\n",
    "    ax.set_axis_off()\n",
    "    ax.imshow(image.reshape(480, 480, 3))\n",
    "    ax.set_title(f\"Prediction: {labelmap[int(pred)]}\")\n"
   ]
  },
  {
   "cell_type": "markdown",
   "id": "65029847-8dae-4dfb-9d6e-26fb95a72965",
   "metadata": {},
   "source": [
    "This model doesn't perform well, the reasons may be:\n",
    "1. the SVC model is very simple\n",
    "2. the data contain many unnecessary information (many blank pixels)\n",
    "3. the data set is very small (total 300 samples)"
   ]
  },
  {
   "cell_type": "markdown",
   "id": "a1ef5ea4-8aff-49de-b308-e83ba3ef9efc",
   "metadata": {},
   "source": [
    "## 2. Dimensionality Reduction"
   ]
  },
  {
   "cell_type": "markdown",
   "id": "7167bf33-cfca-459c-9074-6023ed857983",
   "metadata": {},
   "source": [
    "PCA can filter out unnecessary information. Let's try some other models for new data."
   ]
  },
  {
   "cell_type": "code",
   "execution_count": 9,
   "id": "83c725fa-f735-4f91-92a3-186ccaacf059",
   "metadata": {},
   "outputs": [],
   "source": [
    "# Dimensionality Reduction\n",
    "from sklearn.decomposition import PCA\n",
    "\n",
    "pca = PCA(0.9).fit(images)"
   ]
  },
  {
   "cell_type": "code",
   "execution_count": 10,
   "id": "1bb7e69f-ec8c-46c6-b9d9-d56b33aa5878",
   "metadata": {
    "scrolled": true
   },
   "outputs": [
    {
     "data": {
      "text/plain": [
       "(239, 136)"
      ]
     },
     "execution_count": 10,
     "metadata": {},
     "output_type": "execute_result"
    }
   ],
   "source": [
    "X_train_pca = (pca.transform(X_train) / 255) - 0.5\n",
    "X_test_pca = (pca.transform(X_test) / 255) - 0.5\n",
    "\n",
    "X_train_pca.shape"
   ]
  },
  {
   "cell_type": "markdown",
   "id": "467a1fdf-73e5-48f4-96e1-45165a51a17e",
   "metadata": {},
   "source": [
    "### i. SVC"
   ]
  },
  {
   "cell_type": "code",
   "execution_count": 11,
   "id": "3ad2d3a7-4239-4e2b-98c0-5fdee73d24f7",
   "metadata": {},
   "outputs": [
    {
     "data": {
      "text/plain": [
       "0.6166666666666667"
      ]
     },
     "execution_count": 11,
     "metadata": {},
     "output_type": "execute_result"
    }
   ],
   "source": [
    "clf_pca = SVC().fit(X_train_pca, y_train)\n",
    "prediction = clf_pca.predict(X_test_pca)\n",
    "\n",
    "f1_score(y_test, prediction, average='micro')\n"
   ]
  },
  {
   "cell_type": "markdown",
   "id": "2f15151a-6251-4560-a277-57ce70b38ec0",
   "metadata": {},
   "source": [
    "### ii. MLP"
   ]
  },
  {
   "cell_type": "code",
   "execution_count": 12,
   "id": "23ce958b-ae61-422f-9cb3-dd83ced17457",
   "metadata": {},
   "outputs": [
    {
     "data": {
      "text/plain": [
       "0.5166666666666667"
      ]
     },
     "execution_count": 12,
     "metadata": {},
     "output_type": "execute_result"
    }
   ],
   "source": [
    "from sklearn.neural_network import MLPClassifier\n",
    "\n",
    "mlp = MLPClassifier([12, 12, 12], alpha=0.3, random_state=42, batch_size=20, max_iter=1000).fit(X_train_pca, y_train)\n",
    "prediction = mlp.predict(X_test_pca)\n",
    "\n",
    "f1_score(y_test, prediction, average='micro')\n"
   ]
  },
  {
   "cell_type": "markdown",
   "id": "9c41bca5-774c-4826-a81a-9d890f0e3991",
   "metadata": {},
   "source": [
    "### iii. Bayesian Classifier"
   ]
  },
  {
   "cell_type": "code",
   "execution_count": 13,
   "id": "a01f0fae-cc46-4449-a9c8-9d99393933e3",
   "metadata": {},
   "outputs": [
    {
     "data": {
      "text/plain": [
       "0.31666666666666665"
      ]
     },
     "execution_count": 13,
     "metadata": {},
     "output_type": "execute_result"
    }
   ],
   "source": [
    "from sklearn.naive_bayes import BernoulliNB\n",
    "\n",
    "bayes = BernoulliNB().fit(X_train_pca, y_train)\n",
    "prediction = bayes.predict(X_test_pca)\n",
    "\n",
    "f1_score(y_test, prediction, average='micro')\n"
   ]
  },
  {
   "cell_type": "markdown",
   "id": "e91cd59d-2545-45d5-87db-b88df527bb97",
   "metadata": {},
   "source": [
    "### iv. Logistics Regression"
   ]
  },
  {
   "cell_type": "code",
   "execution_count": 14,
   "id": "e08b800e-7daa-41cb-b4d8-d21205be6838",
   "metadata": {},
   "outputs": [
    {
     "name": "stderr",
     "output_type": "stream",
     "text": [
      "/home/anthony/miniconda3/envs/ai/lib/python3.11/site-packages/sklearn/linear_model/_logistic.py:460: ConvergenceWarning: lbfgs failed to converge (status=1):\n",
      "STOP: TOTAL NO. of ITERATIONS REACHED LIMIT.\n",
      "\n",
      "Increase the number of iterations (max_iter) or scale the data as shown in:\n",
      "    https://scikit-learn.org/stable/modules/preprocessing.html\n",
      "Please also refer to the documentation for alternative solver options:\n",
      "    https://scikit-learn.org/stable/modules/linear_model.html#logistic-regression\n",
      "  n_iter_i = _check_optimize_result(\n"
     ]
    },
    {
     "data": {
      "text/plain": [
       "0.5166666666666667"
      ]
     },
     "execution_count": 14,
     "metadata": {},
     "output_type": "execute_result"
    }
   ],
   "source": [
    "from sklearn.linear_model import LogisticRegression\n",
    "\n",
    "lrg = LogisticRegression(random_state=42, max_iter=500).fit(X_train_pca, y_train)\n",
    "prediction = lrg.predict(X_test_pca)\n",
    "\n",
    "f1_score(y_test, prediction, average='micro')\n"
   ]
  },
  {
   "cell_type": "markdown",
   "id": "f92aab96-1f36-44f1-92f6-c98e13bc0e2f",
   "metadata": {},
   "source": [
    "### v. Random Forest"
   ]
  },
  {
   "cell_type": "code",
   "execution_count": 15,
   "id": "837115e7-b315-4a9c-a9fc-708385704263",
   "metadata": {},
   "outputs": [
    {
     "data": {
      "text/plain": [
       "0.48333333333333334"
      ]
     },
     "execution_count": 15,
     "metadata": {},
     "output_type": "execute_result"
    }
   ],
   "source": [
    "from sklearn.ensemble import RandomForestClassifier\n",
    "\n",
    "rfc = RandomForestClassifier(random_state=42).fit(X_train_pca, y_train)\n",
    "prediction = rfc.predict(X_test_pca)\n",
    "\n",
    "f1_score(y_test, prediction, average='micro')\n"
   ]
  },
  {
   "cell_type": "markdown",
   "id": "4e686375-8207-49a8-9daf-4ed6e2a07126",
   "metadata": {},
   "source": [
    "The models can perform better after dimensionality reduction, but the f1 score still very low."
   ]
  },
  {
   "cell_type": "markdown",
   "id": "16b0bc14-a543-4de9-8614-e328ea843fe4",
   "metadata": {},
   "source": [
    "## 3. Finetuned CNN"
   ]
  },
  {
   "cell_type": "markdown",
   "id": "c2b63b06-db3e-455b-8fd1-fdc4a77b20b7",
   "metadata": {},
   "source": [
    "Since the dataset is very small, we need to use a pre-train model to improve the accuracy."
   ]
  },
  {
   "cell_type": "code",
   "execution_count": 1,
   "id": "9df794f5-b3ba-4810-bd9e-384520be183f",
   "metadata": {},
   "outputs": [],
   "source": [
    "import torch\n",
    "import torchvision\n",
    "from torchvision import models, transforms"
   ]
  },
  {
   "cell_type": "markdown",
   "id": "0d628752-4c5b-436f-b6e8-93ce469ec85b",
   "metadata": {},
   "source": [
    "### Design the Model"
   ]
  },
  {
   "cell_type": "code",
   "execution_count": 59,
   "id": "ffe78a5f-2e8d-45eb-9b5c-c97364bc6273",
   "metadata": {},
   "outputs": [
    {
     "name": "stderr",
     "output_type": "stream",
     "text": [
      "/home/anthony/miniconda3/envs/ai/lib/python3.11/site-packages/torchvision/models/_utils.py:208: UserWarning: The parameter 'pretrained' is deprecated since 0.13 and may be removed in the future, please use 'weights' instead.\n",
      "  warnings.warn(\n",
      "/home/anthony/miniconda3/envs/ai/lib/python3.11/site-packages/torchvision/models/_utils.py:223: UserWarning: Arguments other than a weight enum or `None` for 'weights' are deprecated since 0.13 and may be removed in the future. The current behavior is equivalent to passing `weights=AlexNet_Weights.IMAGENET1K_V1`. You can also use `weights=AlexNet_Weights.DEFAULT` to get the most up-to-date weights.\n",
      "  warnings.warn(msg)\n"
     ]
    }
   ],
   "source": [
    "model = models.alexnet(pretrained=True)\n",
    "\n",
    "for param in model.parameters():\n",
    "    param.requires_grad = False\n"
   ]
  },
  {
   "cell_type": "code",
   "execution_count": 61,
   "id": "a8d89b0d-f099-4b2a-9238-66e7ea5928fa",
   "metadata": {},
   "outputs": [
    {
     "data": {
      "text/plain": [
       "AlexNet(\n",
       "  (features): Sequential(\n",
       "    (0): Conv2d(3, 64, kernel_size=(11, 11), stride=(4, 4), padding=(2, 2))\n",
       "    (1): ReLU(inplace=True)\n",
       "    (2): MaxPool2d(kernel_size=3, stride=2, padding=0, dilation=1, ceil_mode=False)\n",
       "    (3): Conv2d(64, 192, kernel_size=(5, 5), stride=(1, 1), padding=(2, 2))\n",
       "    (4): ReLU(inplace=True)\n",
       "    (5): MaxPool2d(kernel_size=3, stride=2, padding=0, dilation=1, ceil_mode=False)\n",
       "    (6): Conv2d(192, 384, kernel_size=(3, 3), stride=(1, 1), padding=(1, 1))\n",
       "    (7): ReLU(inplace=True)\n",
       "    (8): Conv2d(384, 256, kernel_size=(3, 3), stride=(1, 1), padding=(1, 1))\n",
       "    (9): ReLU(inplace=True)\n",
       "    (10): Conv2d(256, 256, kernel_size=(3, 3), stride=(1, 1), padding=(1, 1))\n",
       "    (11): ReLU(inplace=True)\n",
       "    (12): MaxPool2d(kernel_size=3, stride=2, padding=0, dilation=1, ceil_mode=False)\n",
       "  )\n",
       "  (avgpool): AdaptiveAvgPool2d(output_size=(6, 6))\n",
       "  (classifier): Sequential(\n",
       "    (0): Dropout(p=0.5, inplace=False)\n",
       "    (1): Linear(in_features=9216, out_features=4096, bias=True)\n",
       "    (2): ReLU(inplace=True)\n",
       "    (3): Dropout(p=0.5, inplace=False)\n",
       "    (4): Linear(in_features=4096, out_features=4096, bias=True)\n",
       "    (5): ReLU(inplace=True)\n",
       "    (6): Linear(in_features=4096, out_features=1000, bias=True)\n",
       "  )\n",
       ")"
      ]
     },
     "execution_count": 61,
     "metadata": {},
     "output_type": "execute_result"
    }
   ],
   "source": [
    "model"
   ]
  },
  {
   "cell_type": "code",
   "execution_count": 63,
   "id": "c42e5238-e7b6-4490-a81a-33b7c6d3432c",
   "metadata": {},
   "outputs": [],
   "source": [
    "model.classifier[4].weight.requires_grad = True\n",
    "\n",
    "output_dim = model.classifier[6].in_features\n",
    "model.classifier[6] = torch.nn.Linear(output_dim, 6)"
   ]
  },
  {
   "cell_type": "markdown",
   "id": "7732b10f-6edf-4ba7-b267-e49b1bc73c56",
   "metadata": {},
   "source": [
    "### Load Data"
   ]
  },
  {
   "cell_type": "code",
   "execution_count": 64,
   "id": "8fb7a3ab-0e4f-4dd3-87b0-c864ace19551",
   "metadata": {},
   "outputs": [],
   "source": [
    "transform = transforms.Compose([\n",
    "    transforms.Resize((256, 256)),\n",
    "    transforms.ToTensor(),\n",
    "    transforms.Normalize(mean=[0.485, 0.456, 0.406],\n",
    "                         std=[0.229, 0.224, 0.225])\n",
    "    ])"
   ]
  },
  {
   "cell_type": "code",
   "execution_count": 65,
   "id": "d44ea42c-725c-4d3f-afbb-233d56eac326",
   "metadata": {},
   "outputs": [
    {
     "name": "stderr",
     "output_type": "stream",
     "text": [
      "/home/anthony/miniconda3/envs/ai/lib/python3.11/site-packages/PIL/Image.py:970: UserWarning: Palette images with Transparency expressed in bytes should be converted to RGBA images\n",
      "  warnings.warn(\n"
     ]
    }
   ],
   "source": [
    "# load images\n",
    "import json\n",
    "import numpy as np\n",
    "from PIL import Image\n",
    "\n",
    "\n",
    "with open('images/type_to_sku.json') as f:\n",
    "    type_to_sku = json.loads(f.read())\n",
    "\n",
    "\n",
    "labelmap = list(type_to_sku)\n",
    "images_original = []\n",
    "images = []\n",
    "labels = []\n",
    "for i, (name, sku_ls) in enumerate(type_to_sku.items()):\n",
    "    labels.append((np.ones_like(sku_ls, int) * i).astype(int))\n",
    "    images_original += [np.array(Image.open(f'images/{sku}.jpg').convert('RGB').resize((480,480))) for sku in sku_ls]\n",
    "    images += [transform(Image.open(f'images/{sku}.jpg').convert('RGB').resize((480,480))) for sku in sku_ls]\n"
   ]
  },
  {
   "cell_type": "code",
   "execution_count": 66,
   "id": "80d2737c-2a5b-46de-842d-a6877acbc4bc",
   "metadata": {},
   "outputs": [
    {
     "data": {
      "text/plain": [
       "torch.Size([299, 3, 256, 256])"
      ]
     },
     "execution_count": 66,
     "metadata": {},
     "output_type": "execute_result"
    }
   ],
   "source": [
    "images = torch.concatenate((images)).reshape(-1, 3, 256, 256)\n",
    "images.shape"
   ]
  },
  {
   "cell_type": "code",
   "execution_count": 67,
   "id": "21ed6ff6-8ecf-4d6d-9962-bbf3cd05d897",
   "metadata": {},
   "outputs": [
    {
     "data": {
      "text/plain": [
       "(299,)"
      ]
     },
     "execution_count": 67,
     "metadata": {},
     "output_type": "execute_result"
    }
   ],
   "source": [
    "# labels = torch.Tensor(np.concatenate(labels)).int()\n",
    "labels = np.concatenate(labels)\n",
    "labels_original = labels\n",
    "labels.shape"
   ]
  },
  {
   "cell_type": "code",
   "execution_count": 68,
   "id": "b2b7065b-b936-4b38-b49d-a7d18bd98f48",
   "metadata": {},
   "outputs": [],
   "source": [
    "train_set, val_set, test_set = torch.utils.data.random_split(list(zip(images, labels.tolist())), [200, 66, 33])"
   ]
  },
  {
   "cell_type": "code",
   "execution_count": 69,
   "id": "28a28b5a-10a9-4eac-b7aa-2befd35fcfe5",
   "metadata": {},
   "outputs": [],
   "source": [
    "from torch.utils.data import DataLoader\n",
    "\n",
    "\n",
    "train_loader =  DataLoader(train_set, batch_size=20)\n",
    "validation_loader =  DataLoader(val_set, batch_size=11)\n",
    "test_loader = DataLoader(test_set, batch_size=11)"
   ]
  },
  {
   "cell_type": "markdown",
   "id": "226e54b5-98b5-41a4-97bb-1f5f610f73a7",
   "metadata": {},
   "source": [
    "### Optimizer and Loss"
   ]
  },
  {
   "cell_type": "code",
   "execution_count": 70,
   "id": "73e86289-a1d6-4ea4-8782-cf17da7ca996",
   "metadata": {},
   "outputs": [
    {
     "name": "stdout",
     "output_type": "stream",
     "text": [
      "Device in use: cuda:0\n"
     ]
    }
   ],
   "source": [
    "device = torch.device(\"cuda:0\" if torch.cuda.is_available() else \"cpu\")\n",
    "print('Device in use:', str(device))"
   ]
  },
  {
   "cell_type": "code",
   "execution_count": 71,
   "id": "a9f90971-319e-4c7f-9b14-faf6f9d18363",
   "metadata": {},
   "outputs": [
    {
     "data": {
      "text/plain": [
       "[Parameter containing:\n",
       " tensor([[-0.0107, -0.0015,  0.0057,  ...,  0.0026, -0.0010, -0.0087],\n",
       "         [-0.0279,  0.0168, -0.0162,  ..., -0.0079, -0.0049, -0.0219],\n",
       "         [-0.0112, -0.0184,  0.0073,  ...,  0.0013,  0.0050,  0.0055],\n",
       "         ...,\n",
       "         [-0.0027, -0.0146,  0.0057,  ...,  0.0250, -0.0042, -0.0009],\n",
       "         [ 0.0066,  0.0094,  0.0232,  ...,  0.0060, -0.0029, -0.0042],\n",
       "         [ 0.0118,  0.0041,  0.0013,  ..., -0.0088, -0.0039,  0.0055]],\n",
       "        device='cuda:0', requires_grad=True),\n",
       " Parameter containing:\n",
       " tensor([[-0.0145,  0.0148, -0.0082,  ..., -0.0004, -0.0098,  0.0059],\n",
       "         [ 0.0097, -0.0125, -0.0059,  ..., -0.0148, -0.0062, -0.0043],\n",
       "         [-0.0049, -0.0005, -0.0154,  ...,  0.0067, -0.0125,  0.0040],\n",
       "         [ 0.0140,  0.0087, -0.0097,  ..., -0.0142, -0.0013,  0.0144],\n",
       "         [-0.0031,  0.0040,  0.0089,  ...,  0.0106,  0.0037,  0.0127],\n",
       "         [ 0.0153,  0.0110,  0.0044,  ...,  0.0112, -0.0001,  0.0065]],\n",
       "        device='cuda:0', requires_grad=True),\n",
       " Parameter containing:\n",
       " tensor([-0.0036, -0.0113,  0.0083,  0.0155, -0.0140, -0.0042], device='cuda:0',\n",
       "        requires_grad=True)]"
      ]
     },
     "execution_count": 71,
     "metadata": {},
     "output_type": "execute_result"
    }
   ],
   "source": [
    "model = model.to(device)\n",
    "\n",
    "params_to_update = []\n",
    "for name, param in model.named_parameters():\n",
    "    if param.requires_grad:\n",
    "        params_to_update.append(param)\n",
    "\n",
    "params_to_update"
   ]
  },
  {
   "cell_type": "code",
   "execution_count": 72,
   "id": "499cddc1-5e87-41e8-ac4b-1c820f2de295",
   "metadata": {},
   "outputs": [],
   "source": [
    "from torch.optim import Adam\n",
    "optimizer = Adam(params_to_update, lr=0.0001)"
   ]
  },
  {
   "cell_type": "code",
   "execution_count": 73,
   "id": "fe10e0e4-f422-48d1-9939-e404b4a4ae11",
   "metadata": {},
   "outputs": [],
   "source": [
    "criterion = torch.nn.CrossEntropyLoss()"
   ]
  },
  {
   "cell_type": "markdown",
   "id": "f12f601a-9f59-4a06-93c2-e8ad6d5c2f75",
   "metadata": {},
   "source": [
    "### Train the Model"
   ]
  },
  {
   "cell_type": "code",
   "execution_count": 77,
   "id": "01defaee-b400-4c91-a1f8-edb0f4419151",
   "metadata": {},
   "outputs": [
    {
     "name": "stdout",
     "output_type": "stream",
     "text": [
      "Epoch 1/20\n",
      "---------------\n",
      "Training Loss: 0.1910 Acc: 0.9750\n",
      "Validation Loss: 0.7141 Acc: 0.7879\n",
      "Time: 0.2s\n",
      "===============\n",
      "\n",
      "Epoch 2/20\n",
      "---------------\n",
      "Training Loss: 0.1239 Acc: 0.9850\n",
      "Validation Loss: 0.7144 Acc: 0.7879\n",
      "Time: 0.2s\n",
      "===============\n",
      "\n",
      "Epoch 3/20\n",
      "---------------\n",
      "Training Loss: 0.1159 Acc: 0.9900\n",
      "Validation Loss: 0.6855 Acc: 0.8030\n",
      "Time: 0.2s\n",
      "===============\n",
      "\n",
      "Epoch 4/20\n",
      "---------------\n",
      "Training Loss: 0.0866 Acc: 1.0000\n",
      "Validation Loss: 0.6998 Acc: 0.7879\n",
      "Time: 0.2s\n",
      "===============\n",
      "\n",
      "Epoch 5/20\n",
      "---------------\n",
      "Training Loss: 0.0632 Acc: 0.9950\n",
      "Validation Loss: 0.7262 Acc: 0.7576\n",
      "Time: 0.2s\n",
      "===============\n",
      "\n",
      "Epoch 6/20\n",
      "---------------\n",
      "Training Loss: 0.0569 Acc: 1.0000\n",
      "Validation Loss: 0.7372 Acc: 0.7576\n",
      "Time: 0.2s\n",
      "===============\n",
      "\n",
      "Epoch 7/20\n",
      "---------------\n",
      "Training Loss: 0.0473 Acc: 0.9950\n",
      "Validation Loss: 0.7490 Acc: 0.7727\n",
      "Time: 0.2s\n",
      "===============\n",
      "\n",
      "Epoch 8/20\n",
      "---------------\n",
      "Training Loss: 0.0352 Acc: 1.0000\n",
      "Validation Loss: 0.7361 Acc: 0.7576\n",
      "Time: 0.2s\n",
      "===============\n",
      "\n",
      "Epoch 9/20\n",
      "---------------\n",
      "Training Loss: 0.0279 Acc: 1.0000\n",
      "Validation Loss: 0.7387 Acc: 0.7576\n",
      "Time: 0.2s\n",
      "===============\n",
      "\n",
      "Epoch 10/20\n",
      "---------------\n",
      "Training Loss: 0.0239 Acc: 1.0000\n",
      "Validation Loss: 0.7516 Acc: 0.7727\n",
      "Time: 0.2s\n",
      "===============\n",
      "\n",
      "Epoch 11/20\n",
      "---------------\n",
      "Training Loss: 0.0246 Acc: 1.0000\n",
      "Validation Loss: 0.7539 Acc: 0.7727\n",
      "Time: 0.2s\n",
      "===============\n",
      "\n",
      "Epoch 12/20\n",
      "---------------\n",
      "Training Loss: 0.0214 Acc: 1.0000\n",
      "Validation Loss: 0.7769 Acc: 0.7576\n",
      "Time: 0.2s\n",
      "===============\n",
      "\n",
      "Epoch 13/20\n",
      "---------------\n",
      "Training Loss: 0.0246 Acc: 1.0000\n",
      "Validation Loss: 0.7927 Acc: 0.7424\n",
      "Time: 0.2s\n",
      "===============\n",
      "\n",
      "Epoch 14/20\n",
      "---------------\n",
      "Training Loss: 0.0212 Acc: 1.0000\n",
      "Validation Loss: 0.7607 Acc: 0.7576\n",
      "Time: 0.2s\n",
      "===============\n",
      "\n",
      "Epoch 15/20\n",
      "---------------\n",
      "Training Loss: 0.0141 Acc: 1.0000\n",
      "Validation Loss: 0.7514 Acc: 0.7424\n",
      "Time: 0.2s\n",
      "===============\n",
      "\n",
      "Epoch 16/20\n",
      "---------------\n",
      "Training Loss: 0.0164 Acc: 1.0000\n",
      "Validation Loss: 0.7515 Acc: 0.7424\n",
      "Time: 0.2s\n",
      "===============\n",
      "\n",
      "Epoch 17/20\n",
      "---------------\n",
      "Training Loss: 0.0142 Acc: 1.0000\n",
      "Validation Loss: 0.7861 Acc: 0.7424\n",
      "Time: 0.2s\n",
      "===============\n",
      "\n",
      "Epoch 18/20\n",
      "---------------\n",
      "Training Loss: 0.0123 Acc: 1.0000\n",
      "Validation Loss: 0.8044 Acc: 0.7273\n",
      "Time: 0.2s\n",
      "===============\n",
      "\n",
      "Epoch 19/20\n",
      "---------------\n",
      "Training Loss: 0.0082 Acc: 1.0000\n",
      "Validation Loss: 0.8036 Acc: 0.7273\n",
      "Time: 0.2s\n",
      "===============\n",
      "\n",
      "Epoch 20/20\n",
      "---------------\n",
      "Training Loss: 0.0092 Acc: 1.0000\n",
      "Validation Loss: 0.8030 Acc: 0.7273\n",
      "Time: 0.2s\n",
      "===============\n",
      "\n",
      "Finetuning complete in 0m 3s\n",
      "Best validation Acc: 0.803030\n"
     ]
    },
    {
     "data": {
      "text/plain": [
       "<All keys matched successfully>"
      ]
     },
     "execution_count": 77,
     "metadata": {},
     "output_type": "execute_result"
    }
   ],
   "source": [
    "import time\n",
    "from copy import deepcopy\n",
    "\n",
    "\n",
    "num_epochs = 20\n",
    "\n",
    "since = time.time()\n",
    "\n",
    "# record the historical and the best accuracy.\n",
    "val_acc_history = []\n",
    "best_acc = 0.0\n",
    "best_model_wts = deepcopy(model.state_dict())\n",
    "\n",
    "for epoch in range(num_epochs):\n",
    "    tic = time.time()\n",
    "    print('Epoch {}/{}'.format(epoch+1, num_epochs))\n",
    "    print('-' * 15)\n",
    "\n",
    "    # phase one: training.\n",
    "    model.train() # set the model to training mode\n",
    "    running_loss = 0\n",
    "    running_corrects = 0\n",
    "\n",
    "    # iterate over training subset\n",
    "    for inputs, labels in train_loader:\n",
    "        inputs = inputs.to(device)\n",
    "        labels = labels.to(device)\n",
    "\n",
    "        # set the parameter gradients to zero\n",
    "        optimizer.zero_grad()\n",
    "\n",
    "        # forward pass: get prediction and compute loss\n",
    "        outputs = model(inputs)\n",
    "        loss = criterion(outputs, labels)\n",
    "\n",
    "        # backward pass: compute gradients\n",
    "        loss.backward()\n",
    "\n",
    "        # update parameters\n",
    "        optimizer.step()\n",
    "\n",
    "        # get the predicted class indices\n",
    "        _, preds = torch.max(outputs, 1)\n",
    "\n",
    "        # statistics\n",
    "        running_loss += loss.item() * inputs.size(0)\n",
    "        running_corrects += torch.sum(preds == labels.data)\n",
    "\n",
    "    # The training phase in this epoch is done. Compute the statistics.\n",
    "    epoch_loss = running_loss / len(train_loader.dataset)\n",
    "    epoch_acc = running_corrects.double() / len(train_loader.dataset)\n",
    "    print('Training Loss: {:.4f} Acc: {:.4f}'.format(epoch_loss, epoch_acc))\n",
    "\n",
    "    # phase two: validation.\n",
    "    model.eval()   # set the model to evaluation mode\n",
    "    running_loss = 0.0\n",
    "    running_corrects = 0\n",
    "\n",
    "    # computing gradient is not necessary in the validation phase.\n",
    "    with torch.no_grad():\n",
    "        for inputs, labels in validation_loader:\n",
    "            inputs = inputs.to(device)\n",
    "            labels = labels.to(device)\n",
    "\n",
    "            # get prediction and compute loss\n",
    "            outputs = model(inputs)\n",
    "            loss = criterion(outputs, labels)\n",
    "\n",
    "            # get the predicted class indices\n",
    "            _, preds = torch.max(outputs, 1)\n",
    "\n",
    "            # statistics\n",
    "            running_loss += loss.item() * inputs.size(0)\n",
    "            running_corrects += torch.sum(preds == labels.data)\n",
    "\n",
    "    # The evaluation phase in this epoch is done. Compute the statistics.\n",
    "    epoch_loss = running_loss / len(validation_loader.dataset)\n",
    "    epoch_acc = running_corrects.double() / len(validation_loader.dataset)\n",
    "    print('Validation Loss: {:.4f} Acc: {:.4f}'.format(epoch_loss, epoch_acc))\n",
    "\n",
    "    # check if the performance improves, copy the model if yes.\n",
    "    if epoch_acc > best_acc:\n",
    "        best_acc = epoch_acc\n",
    "        best_model_wts = deepcopy(model.state_dict())\n",
    "    val_acc_history.append(epoch_acc)\n",
    "    print('Time: {:.1f}s'.format(time.time()-tic))\n",
    "    print('='*15)\n",
    "    print()\n",
    "\n",
    "time_elapsed = time.time() - since\n",
    "print('Finetuning complete in {:.0f}m {:.0f}s'.format(time_elapsed // 60, time_elapsed % 60))\n",
    "print('Best validation Acc: {:4f}'.format(best_acc))\n",
    "\n",
    "# load the best model weights\n",
    "model.load_state_dict(best_model_wts)"
   ]
  },
  {
   "cell_type": "markdown",
   "id": "6694e6d1-fe3a-4f0a-b5b1-c6045d524f2b",
   "metadata": {},
   "source": [
    "### Test the Model"
   ]
  },
  {
   "cell_type": "code",
   "execution_count": 78,
   "id": "5a7aed71-cced-4fa6-835f-b06832054b3b",
   "metadata": {},
   "outputs": [
    {
     "name": "stdout",
     "output_type": "stream",
     "text": [
      "Test Loss: 0.5047 Acc: 0.7879\n"
     ]
    }
   ],
   "source": [
    "# test the model\n",
    "model.eval()   # set the model to evaluation mode\n",
    "running_loss = 0.0\n",
    "running_corrects = 0\n",
    "\n",
    "# computing gradient is not necessary in the validation phase.\n",
    "prediction = []\n",
    "with torch.no_grad():\n",
    "    for inputs, labels in test_loader:\n",
    "        inputs = inputs.to(device)\n",
    "        labels = labels.to(device)\n",
    "\n",
    "        # get prediction and compute loss\n",
    "        outputs = model(inputs)\n",
    "        prediction += outputs.argmax(1).tolist()\n",
    "\n",
    "        loss = criterion(outputs, labels)\n",
    "\n",
    "        # get the predicted class indices\n",
    "        _, preds = torch.max(outputs, 1)\n",
    "\n",
    "        # statistics\n",
    "        running_loss += loss.item() * inputs.size(0)\n",
    "        running_corrects += torch.sum(preds == labels.data)\n",
    "\n",
    "# The evaluation phase in this epoch is done. Compute the statistics.\n",
    "epoch_loss = running_loss / len(test_loader.dataset)\n",
    "epoch_acc = running_corrects.double() / len(test_loader.dataset)\n",
    "print('Test Loss: {:.4f} Acc: {:.4f}'.format(epoch_loss, epoch_acc))\n"
   ]
  },
  {
   "cell_type": "code",
   "execution_count": 79,
   "id": "c2f51fa2-21ba-4b72-b835-2531ce51f75f",
   "metadata": {},
   "outputs": [
    {
     "data": {
      "text/plain": [
       "0.7878787878787878"
      ]
     },
     "execution_count": 79,
     "metadata": {},
     "output_type": "execute_result"
    }
   ],
   "source": [
    "from sklearn.metrics import f1_score\n",
    "\n",
    "\n",
    "f1_score(labels_original[test_set.indices], prediction, average='micro')"
   ]
  },
  {
   "cell_type": "code",
   "execution_count": 80,
   "id": "51b60ca8-453d-43a2-8434-3d4fea12ba03",
   "metadata": {},
   "outputs": [
    {
     "data": {
      "image/png": "[encoded data removed]",
      "text/plain": [
       "<Figure size 1200x300 with 6 Axes>"
      ]
     },
     "metadata": {},
     "output_type": "display_data"
    }
   ],
   "source": [
    "import matplotlib.pyplot as plt\n",
    "\n",
    "\n",
    "_, axes = plt.subplots(nrows=1, ncols=6, figsize=(12, 3))\n",
    "for ax, image, pred in zip(axes, np.array(images_original)[test_set.indices]parameters, prediction):\n",
    "    ax.set_axis_off()\n",
    "    ax.imshow(image.reshape(480, 480, 3))\n",
    "    ax.set_title(f\"Prediction: {labelmap[int(pred)]}\")\n"
   ]
  },
  {
   "cell_type": "markdown",
   "id": "9a99295b-914f-48cb-ba77-644b4881b555",
   "metadata": {},
   "source": [
    "# Conclusion\n",
    "For this small dataset, the best way is transfer learning. A well-performed model can catch the features of a small dataset easily."
   ]
  },
  {
   "cell_type": "code",
   "execution_count": null,
   "id": "b45ecf0e-8b19-498a-ac1a-bdcb9817d61a",
   "metadata": {},
   "outputs": [],
   "source": []
  }
 ],
 "metadata": {
  "kernelspec": {
   "display_name": "Python 3 (ipykernel)",
   "language": "python",
   "name": "python3"
  },
  "language_info": {
   "codemirror_mode": {
    "name": "ipython",
    "version": 3
   },
   "file_extension": ".py",
   "mimetype": "text/x-python",
   "name": "python",
   "nbconvert_exporter": "python",
   "pygments_lexer": "ipython3",
   "version": "3.11.5"
  }
 },
 "nbformat": 4,
 "nbformat_minor": 5
}
